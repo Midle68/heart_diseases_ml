{
 "cells": [
  {
   "cell_type": "markdown",
   "id": "effd74d2",
   "metadata": {
    "papermill": {
     "duration": 0.026819,
     "end_time": "2023-03-01T08:08:20.421601",
     "exception": false,
     "start_time": "2023-03-01T08:08:20.394782",
     "status": "completed"
    },
    "tags": []
   },
   "source": [
    "# The project: Heart Diseases Prediction"
   ]
  },
  {
   "cell_type": "markdown",
   "id": "b18aac91",
   "metadata": {
    "papermill": {
     "duration": 0.021797,
     "end_time": "2023-03-01T08:08:20.466211",
     "exception": false,
     "start_time": "2023-03-01T08:08:20.444414",
     "status": "completed"
    },
    "tags": []
   },
   "source": [
    "The goal of the competition is to predict heart diseases based on the given data. The target variable is 'cardio'. The evalution metric for the competition is ROC-AUC.\n",
    "\n",
    "**Plan of the notebook:**\n",
    "1. [Import of Modules & Files Opening](#importing)\n",
    "2. [Data Preprocessing and Exploratory Data Analysis (EDA)](#preprocessing_and_eda)\n",
    "3. [Development of ML-models](#ml_models)\n",
    "4. [Conclusion](#conlusion)"
   ]
  },
  {
   "cell_type": "markdown",
   "id": "30133203",
   "metadata": {
    "papermill": {
     "duration": 0.021726,
     "end_time": "2023-03-01T08:08:20.510008",
     "exception": false,
     "start_time": "2023-03-01T08:08:20.488282",
     "status": "completed"
    },
    "tags": []
   },
   "source": [
    "<a name='importing'></a>\n",
    "# 1. Import of Modules & Files Opening"
   ]
  },
  {
   "cell_type": "code",
   "execution_count": 65,
   "id": "72282e19",
   "metadata": {},
   "outputs": [
    {
     "name": "stdout",
     "output_type": "stream",
     "text": [
      "Requirement already satisfied: phik in ./venv/lib/python3.9/site-packages (0.12.3)\n",
      "Requirement already satisfied: numpy>=1.18.0 in ./venv/lib/python3.9/site-packages (from phik) (1.24.2)\n",
      "Requirement already satisfied: scipy>=1.5.2 in ./venv/lib/python3.9/site-packages (from phik) (1.10.1)\n",
      "Requirement already satisfied: matplotlib>=2.2.3 in ./venv/lib/python3.9/site-packages (from phik) (3.7.0)\n",
      "Requirement already satisfied: pandas>=0.25.1 in ./venv/lib/python3.9/site-packages (from phik) (1.5.3)\n",
      "Requirement already satisfied: joblib>=0.14.1 in ./venv/lib/python3.9/site-packages (from phik) (1.2.0)\n",
      "Requirement already satisfied: packaging>=20.0 in ./venv/lib/python3.9/site-packages (from matplotlib>=2.2.3->phik) (23.0)\n",
      "Requirement already satisfied: cycler>=0.10 in ./venv/lib/python3.9/site-packages (from matplotlib>=2.2.3->phik) (0.11.0)\n",
      "Requirement already satisfied: pyparsing>=2.3.1 in ./venv/lib/python3.9/site-packages (from matplotlib>=2.2.3->phik) (3.0.9)\n",
      "Requirement already satisfied: contourpy>=1.0.1 in ./venv/lib/python3.9/site-packages (from matplotlib>=2.2.3->phik) (1.0.7)\n",
      "Requirement already satisfied: importlib-resources>=3.2.0 in ./venv/lib/python3.9/site-packages (from matplotlib>=2.2.3->phik) (5.12.0)\n",
      "Requirement already satisfied: kiwisolver>=1.0.1 in ./venv/lib/python3.9/site-packages (from matplotlib>=2.2.3->phik) (1.4.4)\n",
      "Requirement already satisfied: pillow>=6.2.0 in ./venv/lib/python3.9/site-packages (from matplotlib>=2.2.3->phik) (9.4.0)\n",
      "Requirement already satisfied: python-dateutil>=2.7 in ./venv/lib/python3.9/site-packages (from matplotlib>=2.2.3->phik) (2.8.2)\n",
      "Requirement already satisfied: fonttools>=4.22.0 in ./venv/lib/python3.9/site-packages (from matplotlib>=2.2.3->phik) (4.38.0)\n",
      "Requirement already satisfied: pytz>=2020.1 in ./venv/lib/python3.9/site-packages (from pandas>=0.25.1->phik) (2022.7.1)\n",
      "Requirement already satisfied: zipp>=3.1.0 in ./venv/lib/python3.9/site-packages (from importlib-resources>=3.2.0->matplotlib>=2.2.3->phik) (3.15.0)\n",
      "Requirement already satisfied: six>=1.5 in ./venv/lib/python3.9/site-packages (from python-dateutil>=2.7->matplotlib>=2.2.3->phik) (1.16.0)\n",
      "Note: you may need to restart the kernel to use updated packages.\n",
      "\n",
      "Usage:   \n",
      "  /Users/midle/Desktop/Coding/Python Apps/heart_disease_app/venv/bin/python -m pip install [options] <requirement specifier> [package-index-options] ...\n",
      "  /Users/midle/Desktop/Coding/Python Apps/heart_disease_app/venv/bin/python -m pip install [options] -r <requirements file> [package-index-options] ...\n",
      "  /Users/midle/Desktop/Coding/Python Apps/heart_disease_app/venv/bin/python -m pip install [options] [-e] <vcs project url> ...\n",
      "  /Users/midle/Desktop/Coding/Python Apps/heart_disease_app/venv/bin/python -m pip install [options] [-e] <local project path> ...\n",
      "  /Users/midle/Desktop/Coding/Python Apps/heart_disease_app/venv/bin/python -m pip install [options] <archive url/path> ...\n",
      "\n",
      "no such option: --upgarde\n",
      "Note: you may need to restart the kernel to use updated packages.\n",
      "Requirement already satisfied: seaborn in ./venv/lib/python3.9/site-packages (0.12.2)\n",
      "Requirement already satisfied: numpy!=1.24.0,>=1.17 in ./venv/lib/python3.9/site-packages (from seaborn) (1.24.2)\n",
      "Requirement already satisfied: pandas>=0.25 in ./venv/lib/python3.9/site-packages (from seaborn) (1.5.3)\n",
      "Requirement already satisfied: matplotlib!=3.6.1,>=3.1 in ./venv/lib/python3.9/site-packages (from seaborn) (3.7.0)\n",
      "Requirement already satisfied: pyparsing>=2.3.1 in ./venv/lib/python3.9/site-packages (from matplotlib!=3.6.1,>=3.1->seaborn) (3.0.9)\n",
      "Requirement already satisfied: packaging>=20.0 in ./venv/lib/python3.9/site-packages (from matplotlib!=3.6.1,>=3.1->seaborn) (23.0)\n",
      "Requirement already satisfied: fonttools>=4.22.0 in ./venv/lib/python3.9/site-packages (from matplotlib!=3.6.1,>=3.1->seaborn) (4.38.0)\n",
      "Requirement already satisfied: kiwisolver>=1.0.1 in ./venv/lib/python3.9/site-packages (from matplotlib!=3.6.1,>=3.1->seaborn) (1.4.4)\n",
      "Requirement already satisfied: contourpy>=1.0.1 in ./venv/lib/python3.9/site-packages (from matplotlib!=3.6.1,>=3.1->seaborn) (1.0.7)\n",
      "Requirement already satisfied: cycler>=0.10 in ./venv/lib/python3.9/site-packages (from matplotlib!=3.6.1,>=3.1->seaborn) (0.11.0)\n",
      "Requirement already satisfied: pillow>=6.2.0 in ./venv/lib/python3.9/site-packages (from matplotlib!=3.6.1,>=3.1->seaborn) (9.4.0)\n",
      "Requirement already satisfied: importlib-resources>=3.2.0 in ./venv/lib/python3.9/site-packages (from matplotlib!=3.6.1,>=3.1->seaborn) (5.12.0)\n",
      "Requirement already satisfied: python-dateutil>=2.7 in ./venv/lib/python3.9/site-packages (from matplotlib!=3.6.1,>=3.1->seaborn) (2.8.2)\n",
      "Requirement already satisfied: pytz>=2020.1 in ./venv/lib/python3.9/site-packages (from pandas>=0.25->seaborn) (2022.7.1)\n",
      "Requirement already satisfied: zipp>=3.1.0 in ./venv/lib/python3.9/site-packages (from importlib-resources>=3.2.0->matplotlib!=3.6.1,>=3.1->seaborn) (3.15.0)\n",
      "Requirement already satisfied: six>=1.5 in ./venv/lib/python3.9/site-packages (from python-dateutil>=2.7->matplotlib!=3.6.1,>=3.1->seaborn) (1.16.0)\n",
      "Note: you may need to restart the kernel to use updated packages.\n"
     ]
    }
   ],
   "source": [
    "%pip install phik\n",
    "%pip install scikit-learn --upgarde\n",
    "%pip install seaborn"
   ]
  },
  {
   "cell_type": "code",
   "execution_count": 66,
   "id": "b2277e66",
   "metadata": {
    "_cell_guid": "b1076dfc-b9ad-4769-8c92-a6c4dae69d19",
    "_uuid": "8f2839f25d086af736a60e9eeb907d3b93b6e0e5",
    "execution": {
     "iopub.execute_input": "2023-03-01T08:08:45.000908Z",
     "iopub.status.busy": "2023-03-01T08:08:45.000036Z",
     "iopub.status.idle": "2023-03-01T08:08:46.787785Z",
     "shell.execute_reply": "2023-03-01T08:08:46.786519Z"
    },
    "papermill": {
     "duration": 1.814664,
     "end_time": "2023-03-01T08:08:46.790544",
     "exception": false,
     "start_time": "2023-03-01T08:08:44.975880",
     "status": "completed"
    },
    "tags": []
   },
   "outputs": [],
   "source": [
    "import matplotlib.pyplot as plt\n",
    "import numpy as np\n",
    "import pandas as pd\n",
    "import seaborn as sns\n",
    "\n",
    "import phik\n",
    "from phik.report import plot_correlation_matrix\n",
    "from phik import report\n",
    "\n",
    "from sklearn.compose import ColumnTransformer\n",
    "from sklearn.ensemble import RandomForestClassifier\n",
    "from sklearn.linear_model import LogisticRegression\n",
    "from sklearn.metrics import f1_score, roc_auc_score\n",
    "from sklearn.model_selection import GridSearchCV, train_test_split\n",
    "from sklearn.neighbors import KNeighborsClassifier\n",
    "from sklearn.pipeline import Pipeline\n",
    "from sklearn.preprocessing import OneHotEncoder, OrdinalEncoder, StandardScaler\n",
    "from sklearn.svm import SVC\n",
    "from sklearn.tree import DecisionTreeClassifier\n",
    "\n",
    "pd.options.display.float_format = '{:,.3f}'.format\n",
    "pd.options.mode.chained_assignment = None"
   ]
  },
  {
   "cell_type": "code",
   "execution_count": 67,
   "id": "870396f1",
   "metadata": {
    "execution": {
     "iopub.execute_input": "2023-03-01T08:08:46.837629Z",
     "iopub.status.busy": "2023-03-01T08:08:46.837201Z",
     "iopub.status.idle": "2023-03-01T08:08:47.028540Z",
     "shell.execute_reply": "2023-03-01T08:08:47.027266Z"
    },
    "papermill": {
     "duration": 0.217631,
     "end_time": "2023-03-01T08:08:47.030961",
     "exception": false,
     "start_time": "2023-03-01T08:08:46.813330",
     "status": "completed"
    },
    "tags": []
   },
   "outputs": [],
   "source": [
    "# train.csv dataset\n",
    "df_train = pd.read_csv('train.csv')"
   ]
  },
  {
   "cell_type": "code",
   "execution_count": 68,
   "id": "21762ae9",
   "metadata": {
    "execution": {
     "iopub.execute_input": "2023-03-01T08:08:47.078251Z",
     "iopub.status.busy": "2023-03-01T08:08:47.077806Z",
     "iopub.status.idle": "2023-03-01T08:08:47.151574Z",
     "shell.execute_reply": "2023-03-01T08:08:47.150699Z"
    },
    "papermill": {
     "duration": 0.09988,
     "end_time": "2023-03-01T08:08:47.153626",
     "exception": false,
     "start_time": "2023-03-01T08:08:47.053746",
     "status": "completed"
    },
    "tags": []
   },
   "outputs": [],
   "source": [
    "# test.csv dataset\n",
    "df_test = pd.read_csv('test.csv')\n",
    "df_test_orig = df_test  # Original test.csv dataset"
   ]
  },
  {
   "cell_type": "code",
   "execution_count": 69,
   "id": "ceef6947",
   "metadata": {
    "execution": {
     "iopub.execute_input": "2023-03-01T08:08:49.258229Z",
     "iopub.status.busy": "2023-03-01T08:08:49.256794Z",
     "iopub.status.idle": "2023-03-01T08:08:49.279109Z",
     "shell.execute_reply": "2023-03-01T08:08:49.277915Z"
    },
    "papermill": {
     "duration": 0.05079,
     "end_time": "2023-03-01T08:08:49.281598",
     "exception": false,
     "start_time": "2023-03-01T08:08:49.230808",
     "status": "completed"
    },
    "tags": []
   },
   "outputs": [],
   "source": [
    "df_train = df_train.drop('id', axis=1)\n",
    "df_test = df_test.drop('id', axis=1)"
   ]
  },
  {
   "cell_type": "code",
   "execution_count": 70,
   "id": "4c0122dd",
   "metadata": {},
   "outputs": [],
   "source": [
    "df_train.loc[df_train['gender'] == 2, 'gender'] = 0\n",
    "df_test.loc[df_test['gender'] == 2, 'gender'] = 0\n",
    "\n",
    "df_train = df_train.rename(columns={'gender': 'female'})\n",
    "df_test = df_test.rename(columns={'gender': 'female'})"
   ]
  },
  {
   "cell_type": "code",
   "execution_count": 71,
   "id": "ddbbcdab",
   "metadata": {
    "execution": {
     "iopub.execute_input": "2023-03-01T08:08:51.242759Z",
     "iopub.status.busy": "2023-03-01T08:08:51.241499Z",
     "iopub.status.idle": "2023-03-01T08:08:51.268375Z",
     "shell.execute_reply": "2023-03-01T08:08:51.267285Z"
    },
    "papermill": {
     "duration": 0.056816,
     "end_time": "2023-03-01T08:08:51.271197",
     "exception": false,
     "start_time": "2023-03-01T08:08:51.214381",
     "status": "completed"
    },
    "tags": []
   },
   "outputs": [],
   "source": [
    "male_median_height = df_train[df_train['female'] == 0]['height'].median()\n",
    "female_median_height = df_train[df_train['female'] == 1]['height'].median()\n",
    "\n",
    "# train.csv\n",
    "df_train.loc[(df_train['height'] < 153) & (df_train['female'] == 0), 'height'] = male_median_height\n",
    "df_train.loc[(df_train['height'] < 145) & (df_train['female'] == 1), 'height'] = female_median_height\n",
    "\n",
    "# test.csv\n",
    "df_test.loc[(df_test['height'] < 153) & (df_test['female'] == 0), 'height'] = male_median_height\n",
    "df_test.loc[(df_test['height'] < 145) & (df_test['female'] == 1), 'height'] = female_median_height"
   ]
  },
  {
   "cell_type": "code",
   "execution_count": 72,
   "id": "d3ef49c2",
   "metadata": {
    "execution": {
     "iopub.execute_input": "2023-03-01T08:08:51.378773Z",
     "iopub.status.busy": "2023-03-01T08:08:51.378337Z",
     "iopub.status.idle": "2023-03-01T08:08:51.393690Z",
     "shell.execute_reply": "2023-03-01T08:08:51.392801Z"
    },
    "papermill": {
     "duration": 0.04577,
     "end_time": "2023-03-01T08:08:51.396160",
     "exception": false,
     "start_time": "2023-03-01T08:08:51.350390",
     "status": "completed"
    },
    "tags": []
   },
   "outputs": [
    {
     "data": {
      "text/plain": [
       "6486    1\n",
       "Name: female, dtype: int64"
      ]
     },
     "metadata": {},
     "output_type": "display_data"
    }
   ],
   "source": [
    "display(df_train[df_train['height'] > 210]['female'])\n",
    "\n",
    "df_train.loc[df_train['height'] > 210, 'height'] = female_median_height"
   ]
  },
  {
   "cell_type": "code",
   "execution_count": 73,
   "id": "e3dc90b0",
   "metadata": {
    "execution": {
     "iopub.execute_input": "2023-03-01T08:08:52.549168Z",
     "iopub.status.busy": "2023-03-01T08:08:52.548713Z",
     "iopub.status.idle": "2023-03-01T08:08:52.611564Z",
     "shell.execute_reply": "2023-03-01T08:08:52.610507Z"
    },
    "papermill": {
     "duration": 0.093637,
     "end_time": "2023-03-01T08:08:52.614071",
     "exception": false,
     "start_time": "2023-03-01T08:08:52.520434",
     "status": "completed"
    },
    "tags": []
   },
   "outputs": [],
   "source": [
    "female_median_weight = df_train[df_train['female'] == 1]['weight'].median()\n",
    "male_median_weight = df_train[df_train['female'] == 0]['weight'].median()\n",
    "\n",
    "df_train.loc[(df_train['female'] == 0) & (df_train['weight'] <= 30), 'weight'] = male_median_weight\n",
    "df_train.loc[(df_train['female'] == 1) & (df_train['weight'] <= 30), 'weight'] = female_median_weight\n",
    "\n",
    "df_test.loc[(df_train['female'] == 0) & (df_test['weight'] <= 30), 'weight'] = male_median_weight\n",
    "df_test.loc[(df_train['female'] == 1) & (df_test['weight'] <= 30), 'weight'] = female_median_weight"
   ]
  },
  {
   "cell_type": "code",
   "execution_count": 74,
   "id": "5d2686bd",
   "metadata": {
    "execution": {
     "iopub.execute_input": "2023-03-01T08:08:53.979484Z",
     "iopub.status.busy": "2023-03-01T08:08:53.978719Z",
     "iopub.status.idle": "2023-03-01T08:08:54.004090Z",
     "shell.execute_reply": "2023-03-01T08:08:54.002909Z"
    },
    "papermill": {
     "duration": 0.057381,
     "end_time": "2023-03-01T08:08:54.006563",
     "exception": false,
     "start_time": "2023-03-01T08:08:53.949182",
     "status": "completed"
    },
    "tags": []
   },
   "outputs": [],
   "source": [
    "df_train['bmi'] = df_train['weight'] / ((df_train['height'] /100) ** 2)\n",
    "df_test['bmi'] = df_test['weight'] / ((df_train['height'] /100) ** 2)\n",
    "\n",
    "df_train = df_train.drop(['weight', 'height'], axis=1)\n",
    "df_test = df_test.drop(['weight', 'height'], axis=1)"
   ]
  },
  {
   "cell_type": "code",
   "execution_count": 75,
   "id": "26031dc9",
   "metadata": {
    "execution": {
     "iopub.execute_input": "2023-03-01T08:08:54.334205Z",
     "iopub.status.busy": "2023-03-01T08:08:54.333755Z",
     "iopub.status.idle": "2023-03-01T08:08:54.346921Z",
     "shell.execute_reply": "2023-03-01T08:08:54.345714Z"
    },
    "papermill": {
     "duration": 0.045192,
     "end_time": "2023-03-01T08:08:54.349496",
     "exception": false,
     "start_time": "2023-03-01T08:08:54.304304",
     "status": "completed"
    },
    "tags": []
   },
   "outputs": [],
   "source": [
    "# Taking the absolute value of negative values\n",
    "df_train.loc[df_train['ap_hi'] < 0, 'ap_hi'] *= -1\n",
    "df_test.loc[df_test['ap_hi'] < 0, 'ap_hi'] *= -1\n",
    "\n",
    "df_train.loc[df_train['ap_lo'] < 0, 'ap_lo'] *= -1\n",
    "df_test.loc[df_test['ap_lo'] < 0, 'ap_lo'] *= -1"
   ]
  },
  {
   "cell_type": "code",
   "execution_count": 76,
   "id": "003673df",
   "metadata": {
    "execution": {
     "iopub.execute_input": "2023-03-01T08:08:54.494362Z",
     "iopub.status.busy": "2023-03-01T08:08:54.493948Z",
     "iopub.status.idle": "2023-03-01T08:08:54.518708Z",
     "shell.execute_reply": "2023-03-01T08:08:54.517381Z"
    },
    "papermill": {
     "duration": 0.0583,
     "end_time": "2023-03-01T08:08:54.521568",
     "exception": false,
     "start_time": "2023-03-01T08:08:54.463268",
     "status": "completed"
    },
    "tags": []
   },
   "outputs": [],
   "source": [
    "df_train.loc[(df_train['ap_hi'] >= 700) & (df_train['ap_hi'] <= 2600), 'ap_hi'] /= 10\n",
    "df_test.loc[(df_test['ap_hi'] >= 700) & (df_test['ap_hi'] <= 2600), 'ap_hi'] /= 10\n",
    "\n",
    "df_train.loc[(df_train['ap_lo'] >= 500) & (df_train['ap_lo'] <= 1600), 'ap_lo'] /= 10\n",
    "df_test.loc[(df_test['ap_lo'] >= 500) & (df_test['ap_lo'] <= 1600), 'ap_lo'] /= 10"
   ]
  },
  {
   "cell_type": "code",
   "execution_count": 77,
   "id": "89c1ecd7",
   "metadata": {
    "execution": {
     "iopub.execute_input": "2023-03-01T08:08:54.581978Z",
     "iopub.status.busy": "2023-03-01T08:08:54.581548Z",
     "iopub.status.idle": "2023-03-01T08:08:54.595075Z",
     "shell.execute_reply": "2023-03-01T08:08:54.594141Z"
    },
    "papermill": {
     "duration": 0.045683,
     "end_time": "2023-03-01T08:08:54.597268",
     "exception": false,
     "start_time": "2023-03-01T08:08:54.551585",
     "status": "completed"
    },
    "tags": []
   },
   "outputs": [],
   "source": [
    "df_train.loc[df_train['ap_hi'] > 2600, 'ap_hi'] /= 100\n",
    "df_train.loc[df_train['ap_lo'] > 1600, 'ap_lo'] /= 100\n",
    "\n",
    "df_test.loc[df_test['ap_hi'] > 2600, 'ap_hi'] /= 100\n",
    "df_test.loc[df_test['ap_lo'] > 1600, 'ap_lo'] /= 100"
   ]
  },
  {
   "cell_type": "code",
   "execution_count": 78,
   "id": "d3deb2dd",
   "metadata": {
    "execution": {
     "iopub.execute_input": "2023-03-01T08:08:54.714159Z",
     "iopub.status.busy": "2023-03-01T08:08:54.713684Z",
     "iopub.status.idle": "2023-03-01T08:08:54.728247Z",
     "shell.execute_reply": "2023-03-01T08:08:54.727138Z"
    },
    "papermill": {
     "duration": 0.047102,
     "end_time": "2023-03-01T08:08:54.730619",
     "exception": false,
     "start_time": "2023-03-01T08:08:54.683517",
     "status": "completed"
    },
    "tags": []
   },
   "outputs": [],
   "source": [
    "# Some of the values may miss a zero, therefore, they should be multiplied by 10\n",
    "df_train.loc[(df_train['ap_hi'] >= 7) & (df_train['ap_hi'] <= 26), 'ap_hi'] *= 10\n",
    "df_train.loc[(df_train['ap_lo'] >= 5) & (df_train['ap_lo'] <= 16), 'ap_lo'] *= 10\n",
    "\n",
    "df_test.loc[(df_test['ap_hi'] >= 7) & (df_test['ap_hi'] <= 26), 'ap_hi'] *= 10\n",
    "df_test.loc[(df_test['ap_lo'] >= 5) & (df_test['ap_lo'] <= 16), 'ap_lo'] *= 10"
   ]
  },
  {
   "cell_type": "code",
   "execution_count": 79,
   "id": "53c7ba76",
   "metadata": {
    "execution": {
     "iopub.execute_input": "2023-03-01T08:08:54.791158Z",
     "iopub.status.busy": "2023-03-01T08:08:54.790732Z",
     "iopub.status.idle": "2023-03-01T08:08:54.800939Z",
     "shell.execute_reply": "2023-03-01T08:08:54.799994Z"
    },
    "papermill": {
     "duration": 0.044181,
     "end_time": "2023-03-01T08:08:54.803412",
     "exception": false,
     "start_time": "2023-03-01T08:08:54.759231",
     "status": "completed"
    },
    "tags": []
   },
   "outputs": [],
   "source": [
    "# Saving median values of ap_hi & ap_lo of each dataset to separate variables\n",
    "train_median_ap_hi = df_train['ap_hi'].median()\n",
    "test_median_ap_hi = df_test['ap_hi'].median()\n",
    "\n",
    "train_median_ap_lo = df_train['ap_lo'].median()\n",
    "test_median_ap_lo = df_test['ap_lo'].median()"
   ]
  },
  {
   "cell_type": "code",
   "execution_count": 80,
   "id": "4caabb06",
   "metadata": {
    "execution": {
     "iopub.execute_input": "2023-03-01T08:08:54.862397Z",
     "iopub.status.busy": "2023-03-01T08:08:54.861993Z",
     "iopub.status.idle": "2023-03-01T08:08:54.873716Z",
     "shell.execute_reply": "2023-03-01T08:08:54.872884Z"
    },
    "papermill": {
     "duration": 0.043753,
     "end_time": "2023-03-01T08:08:54.875892",
     "exception": false,
     "start_time": "2023-03-01T08:08:54.832139",
     "status": "completed"
    },
    "tags": []
   },
   "outputs": [],
   "source": [
    "# If ap_hi > 260 / ap_hi < 70 or ap_lo > 160 / ap_lo < 50, change to median values\n",
    "df_train.loc[(df_train['ap_hi'] > 260) | (df_train['ap_hi'] < 70), 'ap_hi'] = train_median_ap_hi\n",
    "df_test.loc[(df_test['ap_hi'] > 260) | (df_test['ap_hi'] < 70), 'ap_hi'] = test_median_ap_hi\n",
    "\n",
    "df_train.loc[(df_train['ap_lo'] > 160) | (df_train['ap_lo'] < 50), 'ap_lo'] = train_median_ap_lo\n",
    "df_test.loc[(df_test['ap_lo'] > 160) | (df_test['ap_lo'] < 50), 'ap_lo'] = test_median_ap_lo"
   ]
  },
  {
   "cell_type": "code",
   "execution_count": 81,
   "id": "a034abae",
   "metadata": {
    "execution": {
     "iopub.execute_input": "2023-03-01T08:08:54.935325Z",
     "iopub.status.busy": "2023-03-01T08:08:54.934371Z",
     "iopub.status.idle": "2023-03-01T08:09:00.106644Z",
     "shell.execute_reply": "2023-03-01T08:09:00.105494Z"
    },
    "papermill": {
     "duration": 5.204974,
     "end_time": "2023-03-01T08:09:00.109561",
     "exception": false,
     "start_time": "2023-03-01T08:08:54.904587",
     "status": "completed"
    },
    "tags": []
   },
   "outputs": [],
   "source": [
    "def change_blood_pressure(df):\n",
    "    for i, row in df.iterrows():\n",
    "        if row['ap_hi'] < row['ap_lo']:\n",
    "            ap_hi = row['ap_hi']\n",
    "            ap_lo = row['ap_lo']\n",
    "            df.at[i, 'ap_hi'] = ap_lo\n",
    "            df.at[i, 'ap_lo'] = ap_hi\n",
    "\n",
    "change_blood_pressure(df_train)\n",
    "change_blood_pressure(df_test)"
   ]
  },
  {
   "cell_type": "code",
   "execution_count": 82,
   "id": "599b14cc",
   "metadata": {
    "execution": {
     "iopub.execute_input": "2023-03-01T08:09:00.170836Z",
     "iopub.status.busy": "2023-03-01T08:09:00.170419Z",
     "iopub.status.idle": "2023-03-01T08:09:00.178804Z",
     "shell.execute_reply": "2023-03-01T08:09:00.177907Z"
    },
    "papermill": {
     "duration": 0.04154,
     "end_time": "2023-03-01T08:09:00.181078",
     "exception": false,
     "start_time": "2023-03-01T08:09:00.139538",
     "status": "completed"
    },
    "tags": []
   },
   "outputs": [],
   "source": [
    "df_train.loc[df_train['ap_hi'] == df_train['ap_lo'], 'ap_hi'] = train_median_ap_hi\n",
    "df_test.loc[df_test['ap_hi'] == df_test['ap_lo'], 'ap_hi'] = test_median_ap_hi"
   ]
  },
  {
   "cell_type": "code",
   "execution_count": 83,
   "id": "69376f92",
   "metadata": {},
   "outputs": [
    {
     "data": {
      "text/plain": [
       "Index(['age', 'female', 'ap_hi', 'ap_lo', 'cholesterol', 'gluc', 'smoke',\n",
       "       'alco', 'active', 'cardio', 'bmi'],\n",
       "      dtype='object')"
      ]
     },
     "execution_count": 83,
     "metadata": {},
     "output_type": "execute_result"
    }
   ],
   "source": [
    "df_train.columns"
   ]
  },
  {
   "cell_type": "code",
   "execution_count": 84,
   "id": "de7c4562",
   "metadata": {},
   "outputs": [],
   "source": [
    "# Dividing the df_train into train and valid datasets.\n",
    "X = df_train.drop('cardio', axis=1)\n",
    "y = df_train['cardio']\n",
    "\n",
    "X_train, X_valid, y_train, y_valid = train_test_split(\n",
    "    X, y, random_state=42, test_size=0.25\n",
    ")"
   ]
  },
  {
   "cell_type": "code",
   "execution_count": 85,
   "id": "256b8d09",
   "metadata": {
    "execution": {
     "iopub.execute_input": "2023-03-01T08:09:10.390142Z",
     "iopub.status.busy": "2023-03-01T08:09:10.389458Z",
     "iopub.status.idle": "2023-03-01T08:09:10.395650Z",
     "shell.execute_reply": "2023-03-01T08:09:10.394753Z"
    },
    "papermill": {
     "duration": 0.044332,
     "end_time": "2023-03-01T08:09:10.397981",
     "exception": false,
     "start_time": "2023-03-01T08:09:10.353649",
     "status": "completed"
    },
    "tags": []
   },
   "outputs": [],
   "source": [
    "# Preparing column transformer\n",
    "numeric_columns = ['age', 'ap_hi', 'ap_lo', 'cholesterol', 'gluc', 'bmi']\n",
    "skip_columns = ['female', 'smoke', 'alco', 'active']\n",
    "scoring = 'roc_auc'\n",
    "numeric_transformer = StandardScaler()\n",
    "\n",
    "preprocessor = ColumnTransformer(transformers=[\n",
    "    ('numeric_transformer', numeric_transformer, numeric_columns),\n",
    "    ('skip', 'passthrough', skip_columns)\n",
    "])"
   ]
  },
  {
   "cell_type": "code",
   "execution_count": 86,
   "id": "8fec417a",
   "metadata": {
    "execution": {
     "iopub.execute_input": "2023-03-01T08:09:11.561983Z",
     "iopub.status.busy": "2023-03-01T08:09:11.561545Z",
     "iopub.status.idle": "2023-03-01T08:09:20.921134Z",
     "shell.execute_reply": "2023-03-01T08:09:20.919873Z"
    },
    "papermill": {
     "duration": 9.398432,
     "end_time": "2023-03-01T08:09:20.923807",
     "exception": false,
     "start_time": "2023-03-01T08:09:11.525375",
     "status": "completed"
    },
    "tags": []
   },
   "outputs": [
    {
     "data": {
      "text/html": [
       "<style>#sk-container-id-3 {color: black;background-color: white;}#sk-container-id-3 pre{padding: 0;}#sk-container-id-3 div.sk-toggleable {background-color: white;}#sk-container-id-3 label.sk-toggleable__label {cursor: pointer;display: block;width: 100%;margin-bottom: 0;padding: 0.3em;box-sizing: border-box;text-align: center;}#sk-container-id-3 label.sk-toggleable__label-arrow:before {content: \"▸\";float: left;margin-right: 0.25em;color: #696969;}#sk-container-id-3 label.sk-toggleable__label-arrow:hover:before {color: black;}#sk-container-id-3 div.sk-estimator:hover label.sk-toggleable__label-arrow:before {color: black;}#sk-container-id-3 div.sk-toggleable__content {max-height: 0;max-width: 0;overflow: hidden;text-align: left;background-color: #f0f8ff;}#sk-container-id-3 div.sk-toggleable__content pre {margin: 0.2em;color: black;border-radius: 0.25em;background-color: #f0f8ff;}#sk-container-id-3 input.sk-toggleable__control:checked~div.sk-toggleable__content {max-height: 200px;max-width: 100%;overflow: auto;}#sk-container-id-3 input.sk-toggleable__control:checked~label.sk-toggleable__label-arrow:before {content: \"▾\";}#sk-container-id-3 div.sk-estimator input.sk-toggleable__control:checked~label.sk-toggleable__label {background-color: #d4ebff;}#sk-container-id-3 div.sk-label input.sk-toggleable__control:checked~label.sk-toggleable__label {background-color: #d4ebff;}#sk-container-id-3 input.sk-hidden--visually {border: 0;clip: rect(1px 1px 1px 1px);clip: rect(1px, 1px, 1px, 1px);height: 1px;margin: -1px;overflow: hidden;padding: 0;position: absolute;width: 1px;}#sk-container-id-3 div.sk-estimator {font-family: monospace;background-color: #f0f8ff;border: 1px dotted black;border-radius: 0.25em;box-sizing: border-box;margin-bottom: 0.5em;}#sk-container-id-3 div.sk-estimator:hover {background-color: #d4ebff;}#sk-container-id-3 div.sk-parallel-item::after {content: \"\";width: 100%;border-bottom: 1px solid gray;flex-grow: 1;}#sk-container-id-3 div.sk-label:hover label.sk-toggleable__label {background-color: #d4ebff;}#sk-container-id-3 div.sk-serial::before {content: \"\";position: absolute;border-left: 1px solid gray;box-sizing: border-box;top: 0;bottom: 0;left: 50%;z-index: 0;}#sk-container-id-3 div.sk-serial {display: flex;flex-direction: column;align-items: center;background-color: white;padding-right: 0.2em;padding-left: 0.2em;position: relative;}#sk-container-id-3 div.sk-item {position: relative;z-index: 1;}#sk-container-id-3 div.sk-parallel {display: flex;align-items: stretch;justify-content: center;background-color: white;position: relative;}#sk-container-id-3 div.sk-item::before, #sk-container-id-3 div.sk-parallel-item::before {content: \"\";position: absolute;border-left: 1px solid gray;box-sizing: border-box;top: 0;bottom: 0;left: 50%;z-index: -1;}#sk-container-id-3 div.sk-parallel-item {display: flex;flex-direction: column;z-index: 1;position: relative;background-color: white;}#sk-container-id-3 div.sk-parallel-item:first-child::after {align-self: flex-end;width: 50%;}#sk-container-id-3 div.sk-parallel-item:last-child::after {align-self: flex-start;width: 50%;}#sk-container-id-3 div.sk-parallel-item:only-child::after {width: 0;}#sk-container-id-3 div.sk-dashed-wrapped {border: 1px dashed gray;margin: 0 0.4em 0.5em 0.4em;box-sizing: border-box;padding-bottom: 0.4em;background-color: white;}#sk-container-id-3 div.sk-label label {font-family: monospace;font-weight: bold;display: inline-block;line-height: 1.2em;}#sk-container-id-3 div.sk-label-container {text-align: center;}#sk-container-id-3 div.sk-container {/* jupyter's `normalize.less` sets `[hidden] { display: none; }` but bootstrap.min.css set `[hidden] { display: none !important; }` so we also need the `!important` here to be able to override the default hidden behavior on the sphinx rendered scikit-learn.org. See: https://github.com/scikit-learn/scikit-learn/issues/21755 */display: inline-block !important;position: relative;}#sk-container-id-3 div.sk-text-repr-fallback {display: none;}</style><div id=\"sk-container-id-3\" class=\"sk-top-container\"><div class=\"sk-text-repr-fallback\"><pre>Pipeline(steps=[(&#x27;preprocessor&#x27;,\n",
       "                 ColumnTransformer(transformers=[(&#x27;numeric_transformer&#x27;,\n",
       "                                                  StandardScaler(),\n",
       "                                                  [&#x27;age&#x27;, &#x27;ap_hi&#x27;, &#x27;ap_lo&#x27;,\n",
       "                                                   &#x27;cholesterol&#x27;, &#x27;gluc&#x27;,\n",
       "                                                   &#x27;bmi&#x27;]),\n",
       "                                                 (&#x27;skip&#x27;, &#x27;passthrough&#x27;,\n",
       "                                                  [&#x27;female&#x27;, &#x27;smoke&#x27;, &#x27;alco&#x27;,\n",
       "                                                   &#x27;active&#x27;])])),\n",
       "                (&#x27;classifier&#x27;,\n",
       "                 RandomForestClassifier(criterion=&#x27;entropy&#x27;, max_depth=12,\n",
       "                                        min_samples_leaf=10, n_estimators=150,\n",
       "                                        random_state=42))])</pre><b>In a Jupyter environment, please rerun this cell to show the HTML representation or trust the notebook. <br />On GitHub, the HTML representation is unable to render, please try loading this page with nbviewer.org.</b></div><div class=\"sk-container\" hidden><div class=\"sk-item sk-dashed-wrapped\"><div class=\"sk-label-container\"><div class=\"sk-label sk-toggleable\"><input class=\"sk-toggleable__control sk-hidden--visually\" id=\"sk-estimator-id-15\" type=\"checkbox\" ><label for=\"sk-estimator-id-15\" class=\"sk-toggleable__label sk-toggleable__label-arrow\">Pipeline</label><div class=\"sk-toggleable__content\"><pre>Pipeline(steps=[(&#x27;preprocessor&#x27;,\n",
       "                 ColumnTransformer(transformers=[(&#x27;numeric_transformer&#x27;,\n",
       "                                                  StandardScaler(),\n",
       "                                                  [&#x27;age&#x27;, &#x27;ap_hi&#x27;, &#x27;ap_lo&#x27;,\n",
       "                                                   &#x27;cholesterol&#x27;, &#x27;gluc&#x27;,\n",
       "                                                   &#x27;bmi&#x27;]),\n",
       "                                                 (&#x27;skip&#x27;, &#x27;passthrough&#x27;,\n",
       "                                                  [&#x27;female&#x27;, &#x27;smoke&#x27;, &#x27;alco&#x27;,\n",
       "                                                   &#x27;active&#x27;])])),\n",
       "                (&#x27;classifier&#x27;,\n",
       "                 RandomForestClassifier(criterion=&#x27;entropy&#x27;, max_depth=12,\n",
       "                                        min_samples_leaf=10, n_estimators=150,\n",
       "                                        random_state=42))])</pre></div></div></div><div class=\"sk-serial\"><div class=\"sk-item sk-dashed-wrapped\"><div class=\"sk-label-container\"><div class=\"sk-label sk-toggleable\"><input class=\"sk-toggleable__control sk-hidden--visually\" id=\"sk-estimator-id-16\" type=\"checkbox\" ><label for=\"sk-estimator-id-16\" class=\"sk-toggleable__label sk-toggleable__label-arrow\">preprocessor: ColumnTransformer</label><div class=\"sk-toggleable__content\"><pre>ColumnTransformer(transformers=[(&#x27;numeric_transformer&#x27;, StandardScaler(),\n",
       "                                 [&#x27;age&#x27;, &#x27;ap_hi&#x27;, &#x27;ap_lo&#x27;, &#x27;cholesterol&#x27;,\n",
       "                                  &#x27;gluc&#x27;, &#x27;bmi&#x27;]),\n",
       "                                (&#x27;skip&#x27;, &#x27;passthrough&#x27;,\n",
       "                                 [&#x27;female&#x27;, &#x27;smoke&#x27;, &#x27;alco&#x27;, &#x27;active&#x27;])])</pre></div></div></div><div class=\"sk-parallel\"><div class=\"sk-parallel-item\"><div class=\"sk-item\"><div class=\"sk-label-container\"><div class=\"sk-label sk-toggleable\"><input class=\"sk-toggleable__control sk-hidden--visually\" id=\"sk-estimator-id-17\" type=\"checkbox\" ><label for=\"sk-estimator-id-17\" class=\"sk-toggleable__label sk-toggleable__label-arrow\">numeric_transformer</label><div class=\"sk-toggleable__content\"><pre>[&#x27;age&#x27;, &#x27;ap_hi&#x27;, &#x27;ap_lo&#x27;, &#x27;cholesterol&#x27;, &#x27;gluc&#x27;, &#x27;bmi&#x27;]</pre></div></div></div><div class=\"sk-serial\"><div class=\"sk-item\"><div class=\"sk-estimator sk-toggleable\"><input class=\"sk-toggleable__control sk-hidden--visually\" id=\"sk-estimator-id-18\" type=\"checkbox\" ><label for=\"sk-estimator-id-18\" class=\"sk-toggleable__label sk-toggleable__label-arrow\">StandardScaler</label><div class=\"sk-toggleable__content\"><pre>StandardScaler()</pre></div></div></div></div></div></div><div class=\"sk-parallel-item\"><div class=\"sk-item\"><div class=\"sk-label-container\"><div class=\"sk-label sk-toggleable\"><input class=\"sk-toggleable__control sk-hidden--visually\" id=\"sk-estimator-id-19\" type=\"checkbox\" ><label for=\"sk-estimator-id-19\" class=\"sk-toggleable__label sk-toggleable__label-arrow\">skip</label><div class=\"sk-toggleable__content\"><pre>[&#x27;female&#x27;, &#x27;smoke&#x27;, &#x27;alco&#x27;, &#x27;active&#x27;]</pre></div></div></div><div class=\"sk-serial\"><div class=\"sk-item\"><div class=\"sk-estimator sk-toggleable\"><input class=\"sk-toggleable__control sk-hidden--visually\" id=\"sk-estimator-id-20\" type=\"checkbox\" ><label for=\"sk-estimator-id-20\" class=\"sk-toggleable__label sk-toggleable__label-arrow\">passthrough</label><div class=\"sk-toggleable__content\"><pre>passthrough</pre></div></div></div></div></div></div></div></div><div class=\"sk-item\"><div class=\"sk-estimator sk-toggleable\"><input class=\"sk-toggleable__control sk-hidden--visually\" id=\"sk-estimator-id-21\" type=\"checkbox\" ><label for=\"sk-estimator-id-21\" class=\"sk-toggleable__label sk-toggleable__label-arrow\">RandomForestClassifier</label><div class=\"sk-toggleable__content\"><pre>RandomForestClassifier(criterion=&#x27;entropy&#x27;, max_depth=12, min_samples_leaf=10,\n",
       "                       n_estimators=150, random_state=42)</pre></div></div></div></div></div></div></div>"
      ],
      "text/plain": [
       "Pipeline(steps=[('preprocessor',\n",
       "                 ColumnTransformer(transformers=[('numeric_transformer',\n",
       "                                                  StandardScaler(),\n",
       "                                                  ['age', 'ap_hi', 'ap_lo',\n",
       "                                                   'cholesterol', 'gluc',\n",
       "                                                   'bmi']),\n",
       "                                                 ('skip', 'passthrough',\n",
       "                                                  ['female', 'smoke', 'alco',\n",
       "                                                   'active'])])),\n",
       "                ('classifier',\n",
       "                 RandomForestClassifier(criterion='entropy', max_depth=12,\n",
       "                                        min_samples_leaf=10, n_estimators=150,\n",
       "                                        random_state=42))])"
      ]
     },
     "execution_count": 86,
     "metadata": {},
     "output_type": "execute_result"
    }
   ],
   "source": [
    "best_forest = RandomForestClassifier(random_state=42, criterion='entropy', n_estimators=150, max_depth=12, min_samples_leaf=10)\n",
    "best_forest_pipe = Pipeline(steps=[('preprocessor', preprocessor), ('classifier', best_forest)])\n",
    "best_forest_pipe.fit(X_train, y_train)"
   ]
  },
  {
   "cell_type": "code",
   "execution_count": 87,
   "id": "29a3f816",
   "metadata": {
    "papermill": {
     "duration": 0.034104,
     "end_time": "2023-03-01T08:09:30.995394",
     "exception": false,
     "start_time": "2023-03-01T08:09:30.961290",
     "status": "completed"
    },
    "tags": []
   },
   "outputs": [],
   "source": [
    "from pickle import dump\n",
    "\n",
    "with open(\"./main.pcl\", \"wb\") as model_file:\n",
    "    dump(best_forest_pipe, model_file)"
   ]
  },
  {
   "cell_type": "code",
   "execution_count": null,
   "id": "e381d03f",
   "metadata": {},
   "outputs": [],
   "source": []
  }
 ],
 "metadata": {
  "kernelspec": {
   "display_name": "venv",
   "language": "python",
   "name": "python3"
  },
  "language_info": {
   "codemirror_mode": {
    "name": "ipython",
    "version": 3
   },
   "file_extension": ".py",
   "mimetype": "text/x-python",
   "name": "python",
   "nbconvert_exporter": "python",
   "pygments_lexer": "ipython3",
   "version": "3.9.1"
  },
  "papermill": {
   "default_parameters": {},
   "duration": 83.713483,
   "end_time": "2023-03-01T08:09:33.652430",
   "environment_variables": {},
   "exception": null,
   "input_path": "__notebook__.ipynb",
   "output_path": "__notebook__.ipynb",
   "parameters": {},
   "start_time": "2023-03-01T08:08:09.938947",
   "version": "2.3.4"
  },
  "vscode": {
   "interpreter": {
    "hash": "705c458bee544d2c22548d9e814d595e1295ce0f22e8ac8c7e10bd1c70d31cc6"
   }
  }
 },
 "nbformat": 4,
 "nbformat_minor": 5
}
