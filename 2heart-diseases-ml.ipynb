{
 "cells": [
  {
   "cell_type": "markdown",
   "id": "402e4495",
   "metadata": {
    "papermill": {
     "duration": 0.024711,
     "end_time": "2023-02-27T09:02:36.956563",
     "exception": false,
     "start_time": "2023-02-27T09:02:36.931852",
     "status": "completed"
    },
    "tags": []
   },
   "source": [
    "# The project: Heart Diseases Prediction"
   ]
  },
  {
   "cell_type": "markdown",
   "id": "9958545e",
   "metadata": {
    "papermill": {
     "duration": 0.021053,
     "end_time": "2023-02-27T09:02:36.998632",
     "exception": false,
     "start_time": "2023-02-27T09:02:36.977579",
     "status": "completed"
    },
    "tags": []
   },
   "source": [
    "The goal of the competition is to predict heart diseases based on the given data. The target variable is 'cardio'. The evalution metric for the competition is ROC-AUC.\n",
    "\n",
    "**Plan of the notebook:**\n",
    "1. [Import of Modules & Files Opening](#importing)\n",
    "2. [Data Preprocessing and Exploratory Data Analysis (EDA)](#preprocessing_and_eda)\n",
    "3. [Development of ML-models](#ml_models)\n",
    "4. [Conclusion](#conlusion)"
   ]
  },
  {
   "cell_type": "markdown",
   "id": "4de04596",
   "metadata": {
    "papermill": {
     "duration": 0.02015,
     "end_time": "2023-02-27T09:02:37.039358",
     "exception": false,
     "start_time": "2023-02-27T09:02:37.019208",
     "status": "completed"
    },
    "tags": []
   },
   "source": [
    "<a name='importing'></a>\n",
    "# 1. Import of Modules & Files Opening"
   ]
  },
  {
   "cell_type": "code",
   "execution_count": 1,
   "id": "3f2e2537",
   "metadata": {
    "execution": {
     "iopub.execute_input": "2023-02-27T09:02:37.087676Z",
     "iopub.status.busy": "2023-02-27T09:02:37.084972Z",
     "iopub.status.idle": "2023-02-27T09:03:02.185385Z",
     "shell.execute_reply": "2023-02-27T09:03:02.184382Z"
    },
    "papermill": {
     "duration": 25.128076,
     "end_time": "2023-02-27T09:03:02.188165",
     "exception": false,
     "start_time": "2023-02-27T09:02:37.060089",
     "status": "completed"
    },
    "tags": []
   },
   "outputs": [
    {
     "name": "stdout",
     "output_type": "stream",
     "text": [
      "Requirement already satisfied: phik in ./venv/lib/python3.9/site-packages (0.12.3)\n",
      "Requirement already satisfied: matplotlib>=2.2.3 in ./venv/lib/python3.9/site-packages (from phik) (3.7.0)\n",
      "Requirement already satisfied: numpy>=1.18.0 in ./venv/lib/python3.9/site-packages (from phik) (1.24.2)\n",
      "Requirement already satisfied: joblib>=0.14.1 in ./venv/lib/python3.9/site-packages (from phik) (1.2.0)\n",
      "Requirement already satisfied: scipy>=1.5.2 in ./venv/lib/python3.9/site-packages (from phik) (1.10.1)\n",
      "Requirement already satisfied: pandas>=0.25.1 in ./venv/lib/python3.9/site-packages (from phik) (1.5.3)\n",
      "Requirement already satisfied: fonttools>=4.22.0 in ./venv/lib/python3.9/site-packages (from matplotlib>=2.2.3->phik) (4.38.0)\n",
      "Requirement already satisfied: python-dateutil>=2.7 in ./venv/lib/python3.9/site-packages (from matplotlib>=2.2.3->phik) (2.8.2)\n",
      "Requirement already satisfied: pillow>=6.2.0 in ./venv/lib/python3.9/site-packages (from matplotlib>=2.2.3->phik) (9.4.0)\n",
      "Requirement already satisfied: cycler>=0.10 in ./venv/lib/python3.9/site-packages (from matplotlib>=2.2.3->phik) (0.11.0)\n",
      "Requirement already satisfied: kiwisolver>=1.0.1 in ./venv/lib/python3.9/site-packages (from matplotlib>=2.2.3->phik) (1.4.4)\n",
      "Requirement already satisfied: contourpy>=1.0.1 in ./venv/lib/python3.9/site-packages (from matplotlib>=2.2.3->phik) (1.0.7)\n",
      "Requirement already satisfied: importlib-resources>=3.2.0 in ./venv/lib/python3.9/site-packages (from matplotlib>=2.2.3->phik) (5.12.0)\n",
      "Requirement already satisfied: pyparsing>=2.3.1 in ./venv/lib/python3.9/site-packages (from matplotlib>=2.2.3->phik) (3.0.9)\n",
      "Requirement already satisfied: packaging>=20.0 in ./venv/lib/python3.9/site-packages (from matplotlib>=2.2.3->phik) (23.0)\n",
      "Requirement already satisfied: pytz>=2020.1 in ./venv/lib/python3.9/site-packages (from pandas>=0.25.1->phik) (2022.7.1)\n",
      "Requirement already satisfied: zipp>=3.1.0 in ./venv/lib/python3.9/site-packages (from importlib-resources>=3.2.0->matplotlib>=2.2.3->phik) (3.15.0)\n",
      "Requirement already satisfied: six>=1.5 in ./venv/lib/python3.9/site-packages (from python-dateutil>=2.7->matplotlib>=2.2.3->phik) (1.16.0)\n",
      "Note: you may need to restart the kernel to use updated packages.\n",
      "Requirement already satisfied: scikit-learn in ./venv/lib/python3.9/site-packages (1.2.1)\n",
      "Collecting scikit-learn\n",
      "  Downloading scikit_learn-1.2.2-cp39-cp39-macosx_10_9_x86_64.whl (9.1 MB)\n",
      "\u001b[2K     \u001b[90m━━━━━━━━━━━━━━━━━━━━━━━━━━━━━━━━━━━━━━━━\u001b[0m \u001b[32m9.1/9.1 MB\u001b[0m \u001b[31m8.1 MB/s\u001b[0m eta \u001b[36m0:00:00\u001b[0m00:01\u001b[0m00:01\u001b[0m\n",
      "\u001b[?25hRequirement already satisfied: scipy>=1.3.2 in ./venv/lib/python3.9/site-packages (from scikit-learn) (1.10.1)\n",
      "Requirement already satisfied: numpy>=1.17.3 in ./venv/lib/python3.9/site-packages (from scikit-learn) (1.24.2)\n",
      "Requirement already satisfied: joblib>=1.1.1 in ./venv/lib/python3.9/site-packages (from scikit-learn) (1.2.0)\n",
      "Requirement already satisfied: threadpoolctl>=2.0.0 in ./venv/lib/python3.9/site-packages (from scikit-learn) (3.1.0)\n",
      "Installing collected packages: scikit-learn\n",
      "  Attempting uninstall: scikit-learn\n",
      "    Found existing installation: scikit-learn 1.2.1\n",
      "    Uninstalling scikit-learn-1.2.1:\n",
      "      Successfully uninstalled scikit-learn-1.2.1\n",
      "Successfully installed scikit-learn-1.2.2\n",
      "Note: you may need to restart the kernel to use updated packages.\n"
     ]
    },
    {
     "name": "stderr",
     "output_type": "stream",
     "text": [
      "UsageError: Line magic function `%` not found.\n"
     ]
    }
   ],
   "source": [
    "%pip install phik\n",
    "%pip install scikit-learn --upgrade\n",
    "% pip install seaborn"
   ]
  },
  {
   "cell_type": "code",
   "execution_count": 2,
   "id": "322353a5",
   "metadata": {
    "_cell_guid": "b1076dfc-b9ad-4769-8c92-a6c4dae69d19",
    "_uuid": "8f2839f25d086af736a60e9eeb907d3b93b6e0e5",
    "execution": {
     "iopub.execute_input": "2023-02-27T09:03:02.233975Z",
     "iopub.status.busy": "2023-02-27T09:03:02.233512Z",
     "iopub.status.idle": "2023-02-27T09:03:03.995287Z",
     "shell.execute_reply": "2023-02-27T09:03:03.994195Z"
    },
    "papermill": {
     "duration": 1.788147,
     "end_time": "2023-02-27T09:03:03.998035",
     "exception": false,
     "start_time": "2023-02-27T09:03:02.209888",
     "status": "completed"
    },
    "tags": []
   },
   "outputs": [],
   "source": [
    "import matplotlib.pyplot as plt\n",
    "import numpy as np\n",
    "import pandas as pd\n",
    "import seaborn as sns\n",
    "\n",
    "import phik\n",
    "from phik.report import plot_correlation_matrix\n",
    "from phik import report\n",
    "\n",
    "from sklearn.compose import ColumnTransformer\n",
    "from sklearn.ensemble import RandomForestClassifier\n",
    "from sklearn.linear_model import LogisticRegression\n",
    "from sklearn.metrics import f1_score, roc_auc_score\n",
    "from sklearn.model_selection import GridSearchCV, train_test_split\n",
    "from sklearn.neighbors import KNeighborsClassifier\n",
    "from sklearn.pipeline import Pipeline\n",
    "from sklearn.preprocessing import OneHotEncoder, OrdinalEncoder, StandardScaler\n",
    "from sklearn.svm import SVC\n",
    "from sklearn.tree import DecisionTreeClassifier\n",
    "\n",
    "pd.options.display.float_format = '{:,.3f}'.format"
   ]
  },
  {
   "cell_type": "code",
   "execution_count": 3,
   "id": "45656383",
   "metadata": {
    "execution": {
     "iopub.execute_input": "2023-02-27T09:03:04.043040Z",
     "iopub.status.busy": "2023-02-27T09:03:04.042589Z",
     "iopub.status.idle": "2023-02-27T09:03:04.229266Z",
     "shell.execute_reply": "2023-02-27T09:03:04.227628Z"
    },
    "papermill": {
     "duration": 0.212111,
     "end_time": "2023-02-27T09:03:04.231962",
     "exception": false,
     "start_time": "2023-02-27T09:03:04.019851",
     "status": "completed"
    },
    "tags": []
   },
   "outputs": [
    {
     "ename": "FileNotFoundError",
     "evalue": "[Errno 2] No such file or directory: '/kaggle/input/yap15-heart-diseases-predictions/train.csv'",
     "output_type": "error",
     "traceback": [
      "\u001b[0;31m---------------------------------------------------------------------------\u001b[0m",
      "\u001b[0;31mFileNotFoundError\u001b[0m                         Traceback (most recent call last)",
      "Cell \u001b[0;32mIn[3], line 2\u001b[0m\n\u001b[1;32m      1\u001b[0m \u001b[39m# train.csv dataset\u001b[39;00m\n\u001b[0;32m----> 2\u001b[0m df_train \u001b[39m=\u001b[39m pd\u001b[39m.\u001b[39;49mread_csv(\u001b[39m'\u001b[39;49m\u001b[39m/kaggle/input/yap15-heart-diseases-predictions/train.csv\u001b[39;49m\u001b[39m'\u001b[39;49m)\n\u001b[1;32m      3\u001b[0m display(df_train\u001b[39m.\u001b[39mhead())\n\u001b[1;32m      4\u001b[0m display(df_train\u001b[39m.\u001b[39minfo())\n",
      "File \u001b[0;32m~/Desktop/Coding/Python Apps/heart_disease_app/venv/lib/python3.9/site-packages/pandas/util/_decorators.py:211\u001b[0m, in \u001b[0;36mdeprecate_kwarg.<locals>._deprecate_kwarg.<locals>.wrapper\u001b[0;34m(*args, **kwargs)\u001b[0m\n\u001b[1;32m    209\u001b[0m     \u001b[39melse\u001b[39;00m:\n\u001b[1;32m    210\u001b[0m         kwargs[new_arg_name] \u001b[39m=\u001b[39m new_arg_value\n\u001b[0;32m--> 211\u001b[0m \u001b[39mreturn\u001b[39;00m func(\u001b[39m*\u001b[39;49margs, \u001b[39m*\u001b[39;49m\u001b[39m*\u001b[39;49mkwargs)\n",
      "File \u001b[0;32m~/Desktop/Coding/Python Apps/heart_disease_app/venv/lib/python3.9/site-packages/pandas/util/_decorators.py:331\u001b[0m, in \u001b[0;36mdeprecate_nonkeyword_arguments.<locals>.decorate.<locals>.wrapper\u001b[0;34m(*args, **kwargs)\u001b[0m\n\u001b[1;32m    325\u001b[0m \u001b[39mif\u001b[39;00m \u001b[39mlen\u001b[39m(args) \u001b[39m>\u001b[39m num_allow_args:\n\u001b[1;32m    326\u001b[0m     warnings\u001b[39m.\u001b[39mwarn(\n\u001b[1;32m    327\u001b[0m         msg\u001b[39m.\u001b[39mformat(arguments\u001b[39m=\u001b[39m_format_argument_list(allow_args)),\n\u001b[1;32m    328\u001b[0m         \u001b[39mFutureWarning\u001b[39;00m,\n\u001b[1;32m    329\u001b[0m         stacklevel\u001b[39m=\u001b[39mfind_stack_level(),\n\u001b[1;32m    330\u001b[0m     )\n\u001b[0;32m--> 331\u001b[0m \u001b[39mreturn\u001b[39;00m func(\u001b[39m*\u001b[39;49margs, \u001b[39m*\u001b[39;49m\u001b[39m*\u001b[39;49mkwargs)\n",
      "File \u001b[0;32m~/Desktop/Coding/Python Apps/heart_disease_app/venv/lib/python3.9/site-packages/pandas/io/parsers/readers.py:950\u001b[0m, in \u001b[0;36mread_csv\u001b[0;34m(filepath_or_buffer, sep, delimiter, header, names, index_col, usecols, squeeze, prefix, mangle_dupe_cols, dtype, engine, converters, true_values, false_values, skipinitialspace, skiprows, skipfooter, nrows, na_values, keep_default_na, na_filter, verbose, skip_blank_lines, parse_dates, infer_datetime_format, keep_date_col, date_parser, dayfirst, cache_dates, iterator, chunksize, compression, thousands, decimal, lineterminator, quotechar, quoting, doublequote, escapechar, comment, encoding, encoding_errors, dialect, error_bad_lines, warn_bad_lines, on_bad_lines, delim_whitespace, low_memory, memory_map, float_precision, storage_options)\u001b[0m\n\u001b[1;32m    935\u001b[0m kwds_defaults \u001b[39m=\u001b[39m _refine_defaults_read(\n\u001b[1;32m    936\u001b[0m     dialect,\n\u001b[1;32m    937\u001b[0m     delimiter,\n\u001b[0;32m   (...)\u001b[0m\n\u001b[1;32m    946\u001b[0m     defaults\u001b[39m=\u001b[39m{\u001b[39m\"\u001b[39m\u001b[39mdelimiter\u001b[39m\u001b[39m\"\u001b[39m: \u001b[39m\"\u001b[39m\u001b[39m,\u001b[39m\u001b[39m\"\u001b[39m},\n\u001b[1;32m    947\u001b[0m )\n\u001b[1;32m    948\u001b[0m kwds\u001b[39m.\u001b[39mupdate(kwds_defaults)\n\u001b[0;32m--> 950\u001b[0m \u001b[39mreturn\u001b[39;00m _read(filepath_or_buffer, kwds)\n",
      "File \u001b[0;32m~/Desktop/Coding/Python Apps/heart_disease_app/venv/lib/python3.9/site-packages/pandas/io/parsers/readers.py:605\u001b[0m, in \u001b[0;36m_read\u001b[0;34m(filepath_or_buffer, kwds)\u001b[0m\n\u001b[1;32m    602\u001b[0m _validate_names(kwds\u001b[39m.\u001b[39mget(\u001b[39m\"\u001b[39m\u001b[39mnames\u001b[39m\u001b[39m\"\u001b[39m, \u001b[39mNone\u001b[39;00m))\n\u001b[1;32m    604\u001b[0m \u001b[39m# Create the parser.\u001b[39;00m\n\u001b[0;32m--> 605\u001b[0m parser \u001b[39m=\u001b[39m TextFileReader(filepath_or_buffer, \u001b[39m*\u001b[39;49m\u001b[39m*\u001b[39;49mkwds)\n\u001b[1;32m    607\u001b[0m \u001b[39mif\u001b[39;00m chunksize \u001b[39mor\u001b[39;00m iterator:\n\u001b[1;32m    608\u001b[0m     \u001b[39mreturn\u001b[39;00m parser\n",
      "File \u001b[0;32m~/Desktop/Coding/Python Apps/heart_disease_app/venv/lib/python3.9/site-packages/pandas/io/parsers/readers.py:1442\u001b[0m, in \u001b[0;36mTextFileReader.__init__\u001b[0;34m(self, f, engine, **kwds)\u001b[0m\n\u001b[1;32m   1439\u001b[0m     \u001b[39mself\u001b[39m\u001b[39m.\u001b[39moptions[\u001b[39m\"\u001b[39m\u001b[39mhas_index_names\u001b[39m\u001b[39m\"\u001b[39m] \u001b[39m=\u001b[39m kwds[\u001b[39m\"\u001b[39m\u001b[39mhas_index_names\u001b[39m\u001b[39m\"\u001b[39m]\n\u001b[1;32m   1441\u001b[0m \u001b[39mself\u001b[39m\u001b[39m.\u001b[39mhandles: IOHandles \u001b[39m|\u001b[39m \u001b[39mNone\u001b[39;00m \u001b[39m=\u001b[39m \u001b[39mNone\u001b[39;00m\n\u001b[0;32m-> 1442\u001b[0m \u001b[39mself\u001b[39m\u001b[39m.\u001b[39m_engine \u001b[39m=\u001b[39m \u001b[39mself\u001b[39;49m\u001b[39m.\u001b[39;49m_make_engine(f, \u001b[39mself\u001b[39;49m\u001b[39m.\u001b[39;49mengine)\n",
      "File \u001b[0;32m~/Desktop/Coding/Python Apps/heart_disease_app/venv/lib/python3.9/site-packages/pandas/io/parsers/readers.py:1735\u001b[0m, in \u001b[0;36mTextFileReader._make_engine\u001b[0;34m(self, f, engine)\u001b[0m\n\u001b[1;32m   1733\u001b[0m     \u001b[39mif\u001b[39;00m \u001b[39m\"\u001b[39m\u001b[39mb\u001b[39m\u001b[39m\"\u001b[39m \u001b[39mnot\u001b[39;00m \u001b[39min\u001b[39;00m mode:\n\u001b[1;32m   1734\u001b[0m         mode \u001b[39m+\u001b[39m\u001b[39m=\u001b[39m \u001b[39m\"\u001b[39m\u001b[39mb\u001b[39m\u001b[39m\"\u001b[39m\n\u001b[0;32m-> 1735\u001b[0m \u001b[39mself\u001b[39m\u001b[39m.\u001b[39mhandles \u001b[39m=\u001b[39m get_handle(\n\u001b[1;32m   1736\u001b[0m     f,\n\u001b[1;32m   1737\u001b[0m     mode,\n\u001b[1;32m   1738\u001b[0m     encoding\u001b[39m=\u001b[39;49m\u001b[39mself\u001b[39;49m\u001b[39m.\u001b[39;49moptions\u001b[39m.\u001b[39;49mget(\u001b[39m\"\u001b[39;49m\u001b[39mencoding\u001b[39;49m\u001b[39m\"\u001b[39;49m, \u001b[39mNone\u001b[39;49;00m),\n\u001b[1;32m   1739\u001b[0m     compression\u001b[39m=\u001b[39;49m\u001b[39mself\u001b[39;49m\u001b[39m.\u001b[39;49moptions\u001b[39m.\u001b[39;49mget(\u001b[39m\"\u001b[39;49m\u001b[39mcompression\u001b[39;49m\u001b[39m\"\u001b[39;49m, \u001b[39mNone\u001b[39;49;00m),\n\u001b[1;32m   1740\u001b[0m     memory_map\u001b[39m=\u001b[39;49m\u001b[39mself\u001b[39;49m\u001b[39m.\u001b[39;49moptions\u001b[39m.\u001b[39;49mget(\u001b[39m\"\u001b[39;49m\u001b[39mmemory_map\u001b[39;49m\u001b[39m\"\u001b[39;49m, \u001b[39mFalse\u001b[39;49;00m),\n\u001b[1;32m   1741\u001b[0m     is_text\u001b[39m=\u001b[39;49mis_text,\n\u001b[1;32m   1742\u001b[0m     errors\u001b[39m=\u001b[39;49m\u001b[39mself\u001b[39;49m\u001b[39m.\u001b[39;49moptions\u001b[39m.\u001b[39;49mget(\u001b[39m\"\u001b[39;49m\u001b[39mencoding_errors\u001b[39;49m\u001b[39m\"\u001b[39;49m, \u001b[39m\"\u001b[39;49m\u001b[39mstrict\u001b[39;49m\u001b[39m\"\u001b[39;49m),\n\u001b[1;32m   1743\u001b[0m     storage_options\u001b[39m=\u001b[39;49m\u001b[39mself\u001b[39;49m\u001b[39m.\u001b[39;49moptions\u001b[39m.\u001b[39;49mget(\u001b[39m\"\u001b[39;49m\u001b[39mstorage_options\u001b[39;49m\u001b[39m\"\u001b[39;49m, \u001b[39mNone\u001b[39;49;00m),\n\u001b[1;32m   1744\u001b[0m )\n\u001b[1;32m   1745\u001b[0m \u001b[39massert\u001b[39;00m \u001b[39mself\u001b[39m\u001b[39m.\u001b[39mhandles \u001b[39mis\u001b[39;00m \u001b[39mnot\u001b[39;00m \u001b[39mNone\u001b[39;00m\n\u001b[1;32m   1746\u001b[0m f \u001b[39m=\u001b[39m \u001b[39mself\u001b[39m\u001b[39m.\u001b[39mhandles\u001b[39m.\u001b[39mhandle\n",
      "File \u001b[0;32m~/Desktop/Coding/Python Apps/heart_disease_app/venv/lib/python3.9/site-packages/pandas/io/common.py:856\u001b[0m, in \u001b[0;36mget_handle\u001b[0;34m(path_or_buf, mode, encoding, compression, memory_map, is_text, errors, storage_options)\u001b[0m\n\u001b[1;32m    851\u001b[0m \u001b[39melif\u001b[39;00m \u001b[39misinstance\u001b[39m(handle, \u001b[39mstr\u001b[39m):\n\u001b[1;32m    852\u001b[0m     \u001b[39m# Check whether the filename is to be opened in binary mode.\u001b[39;00m\n\u001b[1;32m    853\u001b[0m     \u001b[39m# Binary mode does not support 'encoding' and 'newline'.\u001b[39;00m\n\u001b[1;32m    854\u001b[0m     \u001b[39mif\u001b[39;00m ioargs\u001b[39m.\u001b[39mencoding \u001b[39mand\u001b[39;00m \u001b[39m\"\u001b[39m\u001b[39mb\u001b[39m\u001b[39m\"\u001b[39m \u001b[39mnot\u001b[39;00m \u001b[39min\u001b[39;00m ioargs\u001b[39m.\u001b[39mmode:\n\u001b[1;32m    855\u001b[0m         \u001b[39m# Encoding\u001b[39;00m\n\u001b[0;32m--> 856\u001b[0m         handle \u001b[39m=\u001b[39m \u001b[39mopen\u001b[39;49m(\n\u001b[1;32m    857\u001b[0m             handle,\n\u001b[1;32m    858\u001b[0m             ioargs\u001b[39m.\u001b[39;49mmode,\n\u001b[1;32m    859\u001b[0m             encoding\u001b[39m=\u001b[39;49mioargs\u001b[39m.\u001b[39;49mencoding,\n\u001b[1;32m    860\u001b[0m             errors\u001b[39m=\u001b[39;49merrors,\n\u001b[1;32m    861\u001b[0m             newline\u001b[39m=\u001b[39;49m\u001b[39m\"\u001b[39;49m\u001b[39m\"\u001b[39;49m,\n\u001b[1;32m    862\u001b[0m         )\n\u001b[1;32m    863\u001b[0m     \u001b[39melse\u001b[39;00m:\n\u001b[1;32m    864\u001b[0m         \u001b[39m# Binary mode\u001b[39;00m\n\u001b[1;32m    865\u001b[0m         handle \u001b[39m=\u001b[39m \u001b[39mopen\u001b[39m(handle, ioargs\u001b[39m.\u001b[39mmode)\n",
      "\u001b[0;31mFileNotFoundError\u001b[0m: [Errno 2] No such file or directory: '/kaggle/input/yap15-heart-diseases-predictions/train.csv'"
     ]
    }
   ],
   "source": [
    "# train.csv dataset\n",
    "df_train = pd.read_csv('/kaggle/input/yap15-heart-diseases-predictions/train.csv')\n",
    "display(df_train.head())\n",
    "display(df_train.info())"
   ]
  },
  {
   "cell_type": "code",
   "execution_count": null,
   "id": "cc9122e5",
   "metadata": {
    "execution": {
     "iopub.execute_input": "2023-02-27T09:03:04.278185Z",
     "iopub.status.busy": "2023-02-27T09:03:04.277406Z",
     "iopub.status.idle": "2023-02-27T09:03:04.354344Z",
     "shell.execute_reply": "2023-02-27T09:03:04.353255Z"
    },
    "papermill": {
     "duration": 0.103664,
     "end_time": "2023-02-27T09:03:04.357699",
     "exception": false,
     "start_time": "2023-02-27T09:03:04.254035",
     "status": "completed"
    },
    "tags": []
   },
   "outputs": [
    {
     "data": {
      "text/html": [
       "<div>\n",
       "<style scoped>\n",
       "    .dataframe tbody tr th:only-of-type {\n",
       "        vertical-align: middle;\n",
       "    }\n",
       "\n",
       "    .dataframe tbody tr th {\n",
       "        vertical-align: top;\n",
       "    }\n",
       "\n",
       "    .dataframe thead th {\n",
       "        text-align: right;\n",
       "    }\n",
       "</style>\n",
       "<table border=\"1\" class=\"dataframe\">\n",
       "  <thead>\n",
       "    <tr style=\"text-align: right;\">\n",
       "      <th></th>\n",
       "      <th>id</th>\n",
       "      <th>age</th>\n",
       "      <th>gender</th>\n",
       "      <th>height</th>\n",
       "      <th>weight</th>\n",
       "      <th>ap_hi</th>\n",
       "      <th>ap_lo</th>\n",
       "      <th>cholesterol</th>\n",
       "      <th>gluc</th>\n",
       "      <th>smoke</th>\n",
       "      <th>alco</th>\n",
       "      <th>active</th>\n",
       "    </tr>\n",
       "  </thead>\n",
       "  <tbody>\n",
       "    <tr>\n",
       "      <th>0</th>\n",
       "      <td>5</td>\n",
       "      <td>18888</td>\n",
       "      <td>1</td>\n",
       "      <td>154</td>\n",
       "      <td>85.000</td>\n",
       "      <td>130</td>\n",
       "      <td>80</td>\n",
       "      <td>1</td>\n",
       "      <td>1</td>\n",
       "      <td>0</td>\n",
       "      <td>0</td>\n",
       "      <td>1</td>\n",
       "    </tr>\n",
       "    <tr>\n",
       "      <th>1</th>\n",
       "      <td>6</td>\n",
       "      <td>19042</td>\n",
       "      <td>2</td>\n",
       "      <td>170</td>\n",
       "      <td>69.000</td>\n",
       "      <td>130</td>\n",
       "      <td>90</td>\n",
       "      <td>1</td>\n",
       "      <td>1</td>\n",
       "      <td>0</td>\n",
       "      <td>0</td>\n",
       "      <td>1</td>\n",
       "    </tr>\n",
       "    <tr>\n",
       "      <th>2</th>\n",
       "      <td>7</td>\n",
       "      <td>20432</td>\n",
       "      <td>1</td>\n",
       "      <td>160</td>\n",
       "      <td>70.000</td>\n",
       "      <td>120</td>\n",
       "      <td>75</td>\n",
       "      <td>1</td>\n",
       "      <td>1</td>\n",
       "      <td>0</td>\n",
       "      <td>0</td>\n",
       "      <td>0</td>\n",
       "    </tr>\n",
       "    <tr>\n",
       "      <th>3</th>\n",
       "      <td>10</td>\n",
       "      <td>18133</td>\n",
       "      <td>2</td>\n",
       "      <td>185</td>\n",
       "      <td>94.000</td>\n",
       "      <td>130</td>\n",
       "      <td>90</td>\n",
       "      <td>1</td>\n",
       "      <td>1</td>\n",
       "      <td>0</td>\n",
       "      <td>0</td>\n",
       "      <td>1</td>\n",
       "    </tr>\n",
       "    <tr>\n",
       "      <th>4</th>\n",
       "      <td>11</td>\n",
       "      <td>16093</td>\n",
       "      <td>2</td>\n",
       "      <td>170</td>\n",
       "      <td>76.000</td>\n",
       "      <td>120</td>\n",
       "      <td>80</td>\n",
       "      <td>1</td>\n",
       "      <td>1</td>\n",
       "      <td>0</td>\n",
       "      <td>0</td>\n",
       "      <td>1</td>\n",
       "    </tr>\n",
       "  </tbody>\n",
       "</table>\n",
       "</div>"
      ],
      "text/plain": [
       "   id    age  gender  height  weight  ap_hi  ap_lo  cholesterol  gluc  smoke  \\\n",
       "0   5  18888       1     154  85.000    130     80            1     1      0   \n",
       "1   6  19042       2     170  69.000    130     90            1     1      0   \n",
       "2   7  20432       1     160  70.000    120     75            1     1      0   \n",
       "3  10  18133       2     185  94.000    130     90            1     1      0   \n",
       "4  11  16093       2     170  76.000    120     80            1     1      0   \n",
       "\n",
       "   alco  active  \n",
       "0     0       1  \n",
       "1     0       1  \n",
       "2     0       0  \n",
       "3     0       1  \n",
       "4     0       1  "
      ]
     },
     "metadata": {},
     "output_type": "display_data"
    },
    {
     "name": "stdout",
     "output_type": "stream",
     "text": [
      "<class 'pandas.core.frame.DataFrame'>\n",
      "RangeIndex: 30000 entries, 0 to 29999\n",
      "Data columns (total 12 columns):\n",
      " #   Column       Non-Null Count  Dtype  \n",
      "---  ------       --------------  -----  \n",
      " 0   id           30000 non-null  int64  \n",
      " 1   age          30000 non-null  int64  \n",
      " 2   gender       30000 non-null  int64  \n",
      " 3   height       30000 non-null  int64  \n",
      " 4   weight       30000 non-null  float64\n",
      " 5   ap_hi        30000 non-null  int64  \n",
      " 6   ap_lo        30000 non-null  int64  \n",
      " 7   cholesterol  30000 non-null  int64  \n",
      " 8   gluc         30000 non-null  int64  \n",
      " 9   smoke        30000 non-null  int64  \n",
      " 10  alco         30000 non-null  int64  \n",
      " 11  active       30000 non-null  int64  \n",
      "dtypes: float64(1), int64(11)\n",
      "memory usage: 2.7 MB\n"
     ]
    },
    {
     "data": {
      "text/plain": [
       "None"
      ]
     },
     "metadata": {},
     "output_type": "display_data"
    }
   ],
   "source": [
    "# test.csv dataset\n",
    "df_test = pd.read_csv('/kaggle/input/yap15-heart-diseases-predictions/test.csv')\n",
    "df_test_orig = df_test  # Original test.csv dataset\n",
    "display(df_test.head())\n",
    "display(df_test.info())"
   ]
  },
  {
   "cell_type": "markdown",
   "id": "a278ca7d",
   "metadata": {
    "papermill": {
     "duration": 0.022825,
     "end_time": "2023-02-27T09:03:04.402908",
     "exception": false,
     "start_time": "2023-02-27T09:03:04.380083",
     "status": "completed"
    },
    "tags": []
   },
   "source": [
    "## Functions to be used further in the research"
   ]
  },
  {
   "cell_type": "code",
   "execution_count": null,
   "id": "61f67978",
   "metadata": {
    "execution": {
     "iopub.execute_input": "2023-02-27T09:03:04.449537Z",
     "iopub.status.busy": "2023-02-27T09:03:04.449059Z",
     "iopub.status.idle": "2023-02-27T09:03:04.454972Z",
     "shell.execute_reply": "2023-02-27T09:03:04.453672Z"
    },
    "papermill": {
     "duration": 0.032453,
     "end_time": "2023-02-27T09:03:04.457624",
     "exception": false,
     "start_time": "2023-02-27T09:03:04.425171",
     "status": "completed"
    },
    "tags": []
   },
   "outputs": [],
   "source": [
    "def unique_values(col):\n",
    "    print(f\"Unique values of '{col}':\")\n",
    "    print(\"\\tdf_train:\", sorted(df_train[col].unique()))\n",
    "    print(\"\\tdf_test:\", sorted(df_test[col].unique()))"
   ]
  },
  {
   "cell_type": "code",
   "execution_count": null,
   "id": "1c5d1b71",
   "metadata": {
    "execution": {
     "iopub.execute_input": "2023-02-27T09:03:04.506246Z",
     "iopub.status.busy": "2023-02-27T09:03:04.505813Z",
     "iopub.status.idle": "2023-02-27T09:03:04.512841Z",
     "shell.execute_reply": "2023-02-27T09:03:04.511702Z"
    },
    "papermill": {
     "duration": 0.033395,
     "end_time": "2023-02-27T09:03:04.514938",
     "exception": false,
     "start_time": "2023-02-27T09:03:04.481543",
     "status": "completed"
    },
    "tags": []
   },
   "outputs": [],
   "source": [
    "def create_hist(col):\n",
    "    sns.histplot(\n",
    "        df_train,\n",
    "        x=col,\n",
    "        hue='cardio',\n",
    "        multiple='fill'\n",
    "    )\n",
    "    plt.ylabel('Portion')\n",
    "\n",
    "def create_hist_for_several_values(col):\n",
    "    sns.histplot(\n",
    "        df_train,\n",
    "        x=col,\n",
    "        hue='cardio',\n",
    "        multiple='fill',\n",
    "        discrete=True\n",
    "    )\n",
    "    plt.ylabel('Portion')"
   ]
  },
  {
   "cell_type": "markdown",
   "id": "8fe45090",
   "metadata": {
    "papermill": {
     "duration": 0.024727,
     "end_time": "2023-02-27T09:03:04.562763",
     "exception": false,
     "start_time": "2023-02-27T09:03:04.538036",
     "status": "completed"
    },
    "tags": []
   },
   "source": [
    "<a name='preprocessing_and_eda'></a>\n",
    "# 2. Data Preprocessing and Exploratory Data Analysis (EDA)"
   ]
  },
  {
   "cell_type": "code",
   "execution_count": null,
   "id": "957deb93",
   "metadata": {
    "execution": {
     "iopub.execute_input": "2023-02-27T09:03:04.610686Z",
     "iopub.status.busy": "2023-02-27T09:03:04.609954Z",
     "iopub.status.idle": "2023-02-27T09:03:06.278064Z",
     "shell.execute_reply": "2023-02-27T09:03:06.277111Z"
    },
    "papermill": {
     "duration": 1.695355,
     "end_time": "2023-02-27T09:03:06.281756",
     "exception": false,
     "start_time": "2023-02-27T09:03:04.586401",
     "status": "completed"
    },
    "tags": []
   },
   "outputs": [
    {
     "data": {
      "image/png": "[encoded data removed]",
      "text/plain": [
       "<Figure size 1000x1000 with 16 Axes>"
      ]
     },
     "metadata": {},
     "output_type": "display_data"
    },
    {
     "name": "stdout",
     "output_type": "stream",
     "text": [
      "One of the things worth mentioning is the fact that according to the 'cardio' histogram, the classes are balanced.\n"
     ]
    }
   ],
   "source": [
    "# Histograms for each of the columns\n",
    "df_train.hist(figsize=(10, 10), color='orange')\n",
    "plt.show()\n",
    "\n",
    "print(\"One of the things worth mentioning is the fact that according to the 'cardio' histogram,\",\n",
    "      \"the classes are balanced.\")"
   ]
  },
  {
   "cell_type": "markdown",
   "id": "2ce475d9",
   "metadata": {
    "papermill": {
     "duration": 0.023462,
     "end_time": "2023-02-27T09:03:06.330064",
     "exception": false,
     "start_time": "2023-02-27T09:03:06.306602",
     "status": "completed"
    },
    "tags": []
   },
   "source": [
    "Let's take a look at each of the predictors."
   ]
  },
  {
   "cell_type": "markdown",
   "id": "8bc6a657",
   "metadata": {
    "papermill": {
     "duration": 0.022997,
     "end_time": "2023-02-27T09:03:06.376438",
     "exception": false,
     "start_time": "2023-02-27T09:03:06.353441",
     "status": "completed"
    },
    "tags": []
   },
   "source": [
    "**Column 'id'**"
   ]
  },
  {
   "cell_type": "code",
   "execution_count": null,
   "id": "34679806",
   "metadata": {
    "execution": {
     "iopub.execute_input": "2023-02-27T09:03:06.426114Z",
     "iopub.status.busy": "2023-02-27T09:03:06.425345Z",
     "iopub.status.idle": "2023-02-27T09:03:06.435770Z",
     "shell.execute_reply": "2023-02-27T09:03:06.434630Z"
    },
    "papermill": {
     "duration": 0.038277,
     "end_time": "2023-02-27T09:03:06.438338",
     "exception": false,
     "start_time": "2023-02-27T09:03:06.400061",
     "status": "completed"
    },
    "tags": []
   },
   "outputs": [
    {
     "data": {
      "text/plain": [
       "0     0\n",
       "1     1\n",
       "2     2\n",
       "3     3\n",
       "4     4\n",
       "5     8\n",
       "6     9\n",
       "7    12\n",
       "8    13\n",
       "9    14\n",
       "Name: id, dtype: int64"
      ]
     },
     "metadata": {},
     "output_type": "display_data"
    },
    {
     "data": {
      "text/plain": [
       "0     5\n",
       "1     6\n",
       "2     7\n",
       "3    10\n",
       "4    11\n",
       "5    17\n",
       "6    19\n",
       "7    20\n",
       "8    22\n",
       "9    26\n",
       "Name: id, dtype: int64"
      ]
     },
     "metadata": {},
     "output_type": "display_data"
    }
   ],
   "source": [
    "display(df_train['id'].head(10))\n",
    "display(df_test['id'].head(10))"
   ]
  },
  {
   "cell_type": "markdown",
   "id": "2619814d",
   "metadata": {
    "papermill": {
     "duration": 0.024114,
     "end_time": "2023-02-27T09:03:06.486614",
     "exception": false,
     "start_time": "2023-02-27T09:03:06.462500",
     "status": "completed"
    },
    "tags": []
   },
   "source": [
    "It is worth mentioning that ids that aren't in train.csv dataset are in test.csv dataset. That is why the ids don't match the indexes of the datasets."
   ]
  },
  {
   "cell_type": "code",
   "execution_count": null,
   "id": "c68342af",
   "metadata": {
    "execution": {
     "iopub.execute_input": "2023-02-27T09:03:06.535865Z",
     "iopub.status.busy": "2023-02-27T09:03:06.535477Z",
     "iopub.status.idle": "2023-02-27T09:03:06.554369Z",
     "shell.execute_reply": "2023-02-27T09:03:06.552696Z"
    },
    "papermill": {
     "duration": 0.047594,
     "end_time": "2023-02-27T09:03:06.557839",
     "exception": false,
     "start_time": "2023-02-27T09:03:06.510245",
     "status": "completed"
    },
    "tags": []
   },
   "outputs": [
    {
     "name": "stdout",
     "output_type": "stream",
     "text": [
      "Number of unique ids:\n",
      "\tdf_train: 70000\n",
      "\tdf_test: 30000\n",
      "\n",
      "Since the number of unique ids is equal to the number of objects in each of the dataset, therefore,the 'id' column can be removed frmo both datasets.\n"
     ]
    }
   ],
   "source": [
    "print(\"Number of unique ids:\")\n",
    "print(\"\\tdf_train:\", len(df_train['id'].unique()))\n",
    "print('\\tdf_test:', len(df_test['id'].unique()))\n",
    "\n",
    "print(\"\\nSince the number of unique ids is equal to the number of objects in each of the dataset, therefore,\"\n",
    "      \"the 'id' column can be removed frmo both datasets.\")\n",
    "\n",
    "df_train = df_train.drop('id', axis=1)\n",
    "df_test = df_test.drop('id', axis=1)"
   ]
  },
  {
   "cell_type": "markdown",
   "id": "0da48b91",
   "metadata": {
    "papermill": {
     "duration": 0.0238,
     "end_time": "2023-02-27T09:03:06.606958",
     "exception": false,
     "start_time": "2023-02-27T09:03:06.583158",
     "status": "completed"
    },
    "tags": []
   },
   "source": [
    "**Column 'age'**"
   ]
  },
  {
   "cell_type": "code",
   "execution_count": null,
   "id": "d8f3109a",
   "metadata": {
    "execution": {
     "iopub.execute_input": "2023-02-27T09:03:06.657761Z",
     "iopub.status.busy": "2023-02-27T09:03:06.657333Z",
     "iopub.status.idle": "2023-02-27T09:03:06.675236Z",
     "shell.execute_reply": "2023-02-27T09:03:06.674334Z"
    },
    "papermill": {
     "duration": 0.045824,
     "end_time": "2023-02-27T09:03:06.677430",
     "exception": false,
     "start_time": "2023-02-27T09:03:06.631606",
     "status": "completed"
    },
    "tags": []
   },
   "outputs": [
    {
     "data": {
      "text/plain": [
       "22343    10798\n",
       "30666    10859\n",
       "6219     10878\n",
       "55905    10964\n",
       "31762    14275\n",
       "         ...  \n",
       "36603    23687\n",
       "20931    23690\n",
       "50714    23692\n",
       "68005    23701\n",
       "57191    23713\n",
       "Name: age, Length: 70000, dtype: int64"
      ]
     },
     "execution_count": 10,
     "metadata": {},
     "output_type": "execute_result"
    }
   ],
   "source": [
    "df_train['age'].sort_values()"
   ]
  },
  {
   "cell_type": "markdown",
   "id": "24abca9f",
   "metadata": {
    "papermill": {
     "duration": 0.024029,
     "end_time": "2023-02-27T09:03:06.725585",
     "exception": false,
     "start_time": "2023-02-27T09:03:06.701556",
     "status": "completed"
    },
    "tags": []
   },
   "source": [
    "The 'age' column shows 5-digit numbers. It is likely that these numbers show the amount of days since the birth of a person. In this regard the whole column can be deleted by 365 to show the amount of years or kept as it is."
   ]
  },
  {
   "cell_type": "code",
   "execution_count": null,
   "id": "f858aa0c",
   "metadata": {
    "execution": {
     "iopub.execute_input": "2023-02-27T09:03:06.775604Z",
     "iopub.status.busy": "2023-02-27T09:03:06.774405Z",
     "iopub.status.idle": "2023-02-27T09:03:06.779999Z",
     "shell.execute_reply": "2023-02-27T09:03:06.779038Z"
    },
    "papermill": {
     "duration": 0.032988,
     "end_time": "2023-02-27T09:03:06.782405",
     "exception": false,
     "start_time": "2023-02-27T09:03:06.749417",
     "status": "completed"
    },
    "tags": []
   },
   "outputs": [],
   "source": [
    "# def calculate_years(row):\n",
    "#     age = row['age'] / 365\n",
    "#     return age\n",
    "\n",
    "# df_train['age'] = df_train.apply(calculate_years, axis=1)\n",
    "# df_test['age'] = df_train.apply(calculate_years, axis=1)"
   ]
  },
  {
   "cell_type": "code",
   "execution_count": null,
   "id": "7c96302e",
   "metadata": {
    "execution": {
     "iopub.execute_input": "2023-02-27T09:03:06.833181Z",
     "iopub.status.busy": "2023-02-27T09:03:06.831956Z",
     "iopub.status.idle": "2023-02-27T09:03:07.470188Z",
     "shell.execute_reply": "2023-02-27T09:03:07.469242Z"
    },
    "papermill": {
     "duration": 0.666717,
     "end_time": "2023-02-27T09:03:07.472880",
     "exception": false,
     "start_time": "2023-02-27T09:03:06.806163",
     "status": "completed"
    },
    "tags": []
   },
   "outputs": [
    {
     "data": {
      "image/png": "[encoded data removed]",
      "text/plain": [
       "<Figure size 640x480 with 1 Axes>"
      ]
     },
     "metadata": {},
     "output_type": "display_data"
    }
   ],
   "source": [
    "create_hist('age')\n",
    "plt.title(\"Ratio of 'Age' to 'Cardio' Values\")\n",
    "plt.show()"
   ]
  },
  {
   "cell_type": "markdown",
   "id": "4972bc1c",
   "metadata": {
    "papermill": {
     "duration": 0.02486,
     "end_time": "2023-02-27T09:03:07.523334",
     "exception": false,
     "start_time": "2023-02-27T09:03:07.498474",
     "status": "completed"
    },
    "tags": []
   },
   "source": [
    "It can clearly be seen that the older a person gets the higher the chance of having a heart disease. Only around 20-25% of people at the age of about 40 have heart diseases and up to 70% of people at the age of close to 70 have heart disfunctions."
   ]
  },
  {
   "cell_type": "markdown",
   "id": "7baf6d63",
   "metadata": {
    "papermill": {
     "duration": 0.024597,
     "end_time": "2023-02-27T09:03:07.573002",
     "exception": false,
     "start_time": "2023-02-27T09:03:07.548405",
     "status": "completed"
    },
    "tags": []
   },
   "source": [
    "**Column 'gender'**"
   ]
  },
  {
   "cell_type": "code",
   "execution_count": null,
   "id": "ad12c287",
   "metadata": {
    "execution": {
     "iopub.execute_input": "2023-02-27T09:03:07.623663Z",
     "iopub.status.busy": "2023-02-27T09:03:07.622871Z",
     "iopub.status.idle": "2023-02-27T09:03:07.630355Z",
     "shell.execute_reply": "2023-02-27T09:03:07.628770Z"
    },
    "papermill": {
     "duration": 0.035711,
     "end_time": "2023-02-27T09:03:07.632925",
     "exception": false,
     "start_time": "2023-02-27T09:03:07.597214",
     "status": "completed"
    },
    "tags": []
   },
   "outputs": [
    {
     "name": "stdout",
     "output_type": "stream",
     "text": [
      "Unique values of 'gender':\n",
      "\tdf_train: [1, 2]\n",
      "\tdf_test: [1, 2]\n"
     ]
    }
   ],
   "source": [
    "unique_values('gender')"
   ]
  },
  {
   "cell_type": "markdown",
   "id": "d247960f",
   "metadata": {
    "papermill": {
     "duration": 0.024416,
     "end_time": "2023-02-27T09:03:07.682023",
     "exception": false,
     "start_time": "2023-02-27T09:03:07.657607",
     "status": "completed"
    },
    "tags": []
   },
   "source": [
    "Since we don't know what each of the values in 'gender' column stands for, we can assume the gender by looking at other indicators, for instance, 'height'. As a rule, men are taller than women, therefore, the gender, where people are higher on average corresponds to 'male'."
   ]
  },
  {
   "cell_type": "code",
   "execution_count": null,
   "id": "cd56f033",
   "metadata": {
    "execution": {
     "iopub.execute_input": "2023-02-27T09:03:07.732233Z",
     "iopub.status.busy": "2023-02-27T09:03:07.731792Z",
     "iopub.status.idle": "2023-02-27T09:03:07.747144Z",
     "shell.execute_reply": "2023-02-27T09:03:07.745839Z"
    },
    "papermill": {
     "duration": 0.043449,
     "end_time": "2023-02-27T09:03:07.749692",
     "exception": false,
     "start_time": "2023-02-27T09:03:07.706243",
     "status": "completed"
    },
    "tags": []
   },
   "outputs": [
    {
     "name": "stdout",
     "output_type": "stream",
     "text": [
      "Median height values by gender:\n",
      "\tgender = 1: 161.0\n",
      "\tgender = 2 170.0\n"
     ]
    }
   ],
   "source": [
    "print(\"Median height values by gender:\")\n",
    "print(\"\\tgender = 1:\", df_train[df_train['gender'] == 1]['height'].median())\n",
    "print(\"\\tgender = 2\", df_train[df_train['gender'] == 2]['height'].median())"
   ]
  },
  {
   "cell_type": "markdown",
   "id": "32f1ffc1",
   "metadata": {
    "papermill": {
     "duration": 0.023731,
     "end_time": "2023-02-27T09:03:07.797887",
     "exception": false,
     "start_time": "2023-02-27T09:03:07.774156",
     "status": "completed"
    },
    "tags": []
   },
   "source": [
    "Since people with gender value of '2' are taller and men are taller than women, hence, '2' value of gender stands for 'men' and '1' for 'women'. Not to forget that insight, it might be necessary to rename 'gender' column to 'female' for instance. In this case, values would correlates with boolean values where '0' is 'False' and '1' is 'True'."
   ]
  },
  {
   "cell_type": "markdown",
   "id": "e5fc13fc",
   "metadata": {
    "papermill": {
     "duration": 0.023729,
     "end_time": "2023-02-27T09:03:07.845638",
     "exception": false,
     "start_time": "2023-02-27T09:03:07.821909",
     "status": "completed"
    },
    "tags": []
   },
   "source": [
    "Let's change the value '2' to '0' so that the unique values of 'gender' predictor were '0' and '1'. And then rename the column to 'female'."
   ]
  },
  {
   "cell_type": "code",
   "execution_count": null,
   "id": "243e0249",
   "metadata": {
    "execution": {
     "iopub.execute_input": "2023-02-27T09:03:07.896248Z",
     "iopub.status.busy": "2023-02-27T09:03:07.895810Z",
     "iopub.status.idle": "2023-02-27T09:03:07.908434Z",
     "shell.execute_reply": "2023-02-27T09:03:07.907467Z"
    },
    "papermill": {
     "duration": 0.040916,
     "end_time": "2023-02-27T09:03:07.911105",
     "exception": false,
     "start_time": "2023-02-27T09:03:07.870189",
     "status": "completed"
    },
    "tags": []
   },
   "outputs": [],
   "source": [
    "df_train.loc[df_train['gender'] == 2, 'gender'] = 0\n",
    "df_test.loc[df_test['gender'] == 2, 'gender'] = 0\n",
    "\n",
    "df_train = df_train.rename(columns={'gender': 'female'})\n",
    "df_test = df_test.rename(columns={'gender': 'female'})"
   ]
  },
  {
   "cell_type": "code",
   "execution_count": null,
   "id": "b8f0196e",
   "metadata": {
    "execution": {
     "iopub.execute_input": "2023-02-27T09:03:07.961874Z",
     "iopub.status.busy": "2023-02-27T09:03:07.961158Z",
     "iopub.status.idle": "2023-02-27T09:03:08.254922Z",
     "shell.execute_reply": "2023-02-27T09:03:08.254050Z"
    },
    "papermill": {
     "duration": 0.321945,
     "end_time": "2023-02-27T09:03:08.257320",
     "exception": false,
     "start_time": "2023-02-27T09:03:07.935375",
     "status": "completed"
    },
    "tags": []
   },
   "outputs": [
    {
     "data": {
      "image/png": "[encoded data removed]",
      "text/plain": [
       "<Figure size 640x480 with 1 Axes>"
      ]
     },
     "metadata": {},
     "output_type": "display_data"
    }
   ],
   "source": [
    "create_hist_for_several_values('female')\n",
    "plt.title(\"Ratio of 'Genger' to 'Cardio' Values\")\n",
    "plt.xlabel('Female')\n",
    "plt.xticks(np.arange(2), ['Man', 'Woman'])\n",
    "plt.show()"
   ]
  },
  {
   "cell_type": "markdown",
   "id": "13313094",
   "metadata": {
    "papermill": {
     "duration": 0.024222,
     "end_time": "2023-02-27T09:03:08.306644",
     "exception": false,
     "start_time": "2023-02-27T09:03:08.282422",
     "status": "completed"
    },
    "tags": []
   },
   "source": [
    "There isn't big difference between men and women regarding the presence of heart diseases. The values are almost identical."
   ]
  },
  {
   "cell_type": "markdown",
   "id": "5ab10e96",
   "metadata": {
    "papermill": {
     "duration": 0.024113,
     "end_time": "2023-02-27T09:03:08.355497",
     "exception": false,
     "start_time": "2023-02-27T09:03:08.331384",
     "status": "completed"
    },
    "tags": []
   },
   "source": [
    "**Column 'height'**"
   ]
  },
  {
   "cell_type": "code",
   "execution_count": null,
   "id": "0f074b8d",
   "metadata": {
    "execution": {
     "iopub.execute_input": "2023-02-27T09:03:08.407348Z",
     "iopub.status.busy": "2023-02-27T09:03:08.406699Z",
     "iopub.status.idle": "2023-02-27T09:03:08.413270Z",
     "shell.execute_reply": "2023-02-27T09:03:08.412215Z"
    },
    "papermill": {
     "duration": 0.035807,
     "end_time": "2023-02-27T09:03:08.415912",
     "exception": false,
     "start_time": "2023-02-27T09:03:08.380105",
     "status": "completed"
    },
    "tags": []
   },
   "outputs": [
    {
     "name": "stdout",
     "output_type": "stream",
     "text": [
      "Unique values of 'height':\n",
      "\tdf_train: [55, 57, 59, 60, 64, 65, 66, 67, 68, 70, 71, 72, 74, 75, 76, 80, 81, 91, 96, 97, 98, 99, 100, 104, 105, 108, 109, 110, 111, 112, 113, 117, 119, 120, 122, 125, 128, 130, 131, 132, 133, 134, 135, 136, 137, 138, 139, 140, 141, 142, 143, 144, 145, 146, 147, 148, 149, 150, 151, 152, 153, 154, 155, 156, 157, 158, 159, 160, 161, 162, 163, 164, 165, 166, 167, 168, 169, 170, 171, 172, 173, 174, 175, 176, 177, 178, 179, 180, 181, 182, 183, 184, 185, 186, 187, 188, 189, 190, 191, 192, 193, 194, 195, 196, 197, 198, 200, 207, 250]\n",
      "\tdf_test: [50, 52, 56, 58, 60, 62, 65, 68, 72, 87, 100, 102, 105, 110, 114, 116, 119, 120, 122, 127, 130, 131, 134, 135, 136, 137, 138, 139, 140, 141, 142, 143, 144, 145, 146, 147, 148, 149, 150, 151, 152, 153, 154, 155, 156, 157, 158, 159, 160, 161, 162, 163, 164, 165, 166, 167, 168, 169, 170, 171, 172, 173, 174, 175, 176, 177, 178, 179, 180, 181, 182, 183, 184, 185, 186, 187, 188, 189, 190, 191, 192, 193, 194, 195, 196, 197, 198]\n"
     ]
    }
   ],
   "source": [
    "unique_values('height')"
   ]
  },
  {
   "cell_type": "markdown",
   "id": "5f7390ce",
   "metadata": {
    "execution": {
     "iopub.execute_input": "2023-02-21T08:46:58.303881Z",
     "iopub.status.busy": "2023-02-21T08:46:58.303465Z",
     "iopub.status.idle": "2023-02-21T08:46:58.310147Z",
     "shell.execute_reply": "2023-02-21T08:46:58.309426Z",
     "shell.execute_reply.started": "2023-02-21T08:46:58.303844Z"
    },
    "papermill": {
     "duration": 0.024564,
     "end_time": "2023-02-27T09:03:08.465399",
     "exception": false,
     "start_time": "2023-02-27T09:03:08.440835",
     "status": "completed"
    },
    "tags": []
   },
   "source": [
    "Taking into consideration the fact that the values are in cm, it can clearly be seen that there are some anomalies. It is mostly refers to extremely low values (< 120 cm).\n",
    "\n",
    "The people with such values of height cannot be removed from training dataset, as there are people with similar height values. One of the ways to solve the issue is to use median data considering the gender of a person (as the there is a height difference depending on a gender).\n",
    "\n",
    "Let's change 'height' values of people with lower value than 140 cm (the number of objects with such height is less than 0.01% of all the objects) to the median value depending on their gender."
   ]
  },
  {
   "cell_type": "code",
   "execution_count": null,
   "id": "ff1edad4",
   "metadata": {
    "execution": {
     "iopub.execute_input": "2023-02-27T09:03:08.517270Z",
     "iopub.status.busy": "2023-02-27T09:03:08.516854Z",
     "iopub.status.idle": "2023-02-27T09:03:08.543221Z",
     "shell.execute_reply": "2023-02-27T09:03:08.542351Z"
    },
    "papermill": {
     "duration": 0.055357,
     "end_time": "2023-02-27T09:03:08.545840",
     "exception": false,
     "start_time": "2023-02-27T09:03:08.490483",
     "status": "completed"
    },
    "tags": []
   },
   "outputs": [],
   "source": [
    "# train.csv\n",
    "df_train.loc[\n",
    "    (df_train['height'] < 140) & (df_train['female'] == 0),\n",
    "    'height'\n",
    "] = df_train[df_train['female'] == 0]['height'].median()\n",
    "df_train.loc[\n",
    "    (df_train['height'] < 140) & (df_train['female'] == 1),\n",
    "    'height'\n",
    "] = df_train[df_train['female'] == 1]['height'].median()\n",
    "\n",
    "# test.csv\n",
    "df_test.loc[\n",
    "    (df_test['height'] < 140) & (df_test['female'] == 0),\n",
    "    'height'\n",
    "] = df_test[df_test['female'] == 0]['height'].median()\n",
    "df_test.loc[\n",
    "    (df_test['height'] < 140) & (df_test['female'] == 1),\n",
    "    'height'\n",
    "] = df_test[df_test['female'] == 1]['height'].median()"
   ]
  },
  {
   "cell_type": "markdown",
   "id": "8554183f",
   "metadata": {
    "execution": {
     "iopub.execute_input": "2023-02-21T09:15:50.443649Z",
     "iopub.status.busy": "2023-02-21T09:15:50.443007Z",
     "iopub.status.idle": "2023-02-21T09:15:50.452308Z",
     "shell.execute_reply": "2023-02-21T09:15:50.451218Z",
     "shell.execute_reply.started": "2023-02-21T09:15:50.443613Z"
    },
    "papermill": {
     "duration": 0.025033,
     "end_time": "2023-02-27T09:03:08.595584",
     "exception": false,
     "start_time": "2023-02-27T09:03:08.570551",
     "status": "completed"
    },
    "tags": []
   },
   "source": [
    "In addition let's change the value of the highest person - '250', which is almost the height of the tallest person in the world to the median level depending on the gender value.\n",
    "\n",
    "P. S. There aren't such people in test dataset."
   ]
  },
  {
   "cell_type": "code",
   "execution_count": null,
   "id": "ab022c67",
   "metadata": {
    "execution": {
     "iopub.execute_input": "2023-02-27T09:03:08.646745Z",
     "iopub.status.busy": "2023-02-27T09:03:08.646365Z",
     "iopub.status.idle": "2023-02-27T09:03:08.661940Z",
     "shell.execute_reply": "2023-02-27T09:03:08.661114Z"
    },
    "papermill": {
     "duration": 0.043877,
     "end_time": "2023-02-27T09:03:08.664431",
     "exception": false,
     "start_time": "2023-02-27T09:03:08.620554",
     "status": "completed"
    },
    "tags": []
   },
   "outputs": [
    {
     "data": {
      "text/plain": [
       "6486    1\n",
       "Name: female, dtype: int64"
      ]
     },
     "metadata": {},
     "output_type": "display_data"
    }
   ],
   "source": [
    "display(df_train[df_train['height'] > 210]['female'])\n",
    "\n",
    "df_train.loc[df_train['height'] > 210, 'height'] = df_train[df_train['female'] == 1]['height'].median()"
   ]
  },
  {
   "cell_type": "code",
   "execution_count": null,
   "id": "bad036b6",
   "metadata": {
    "execution": {
     "iopub.execute_input": "2023-02-27T09:03:08.718384Z",
     "iopub.status.busy": "2023-02-27T09:03:08.717088Z",
     "iopub.status.idle": "2023-02-27T09:03:09.577026Z",
     "shell.execute_reply": "2023-02-27T09:03:09.575620Z"
    },
    "papermill": {
     "duration": 0.889265,
     "end_time": "2023-02-27T09:03:09.579478",
     "exception": false,
     "start_time": "2023-02-27T09:03:08.690213",
     "status": "completed"
    },
    "tags": []
   },
   "outputs": [
    {
     "data": {
      "image/png": "[encoded data removed]",
      "text/plain": [
       "<Figure size 640x480 with 1 Axes>"
      ]
     },
     "metadata": {},
     "output_type": "display_data"
    }
   ],
   "source": [
    "create_hist('height')\n",
    "plt.title(\"Ratio of 'Height' to 'Cardio' Values\")\n",
    "plt.show()"
   ]
  },
  {
   "cell_type": "markdown",
   "id": "9edb0be6",
   "metadata": {
    "papermill": {
     "duration": 0.024859,
     "end_time": "2023-02-27T09:03:09.629633",
     "exception": false,
     "start_time": "2023-02-27T09:03:09.604774",
     "status": "completed"
    },
    "tags": []
   },
   "source": [
    "It is hard to say exactly whether there is significant dependence between the height of a person and the presence of heart disease. However, according to the histogram, more people to have heart diseases if there height is far from common (less than 150 or more than 190 cm)."
   ]
  },
  {
   "cell_type": "markdown",
   "id": "495a4103",
   "metadata": {
    "papermill": {
     "duration": 0.024688,
     "end_time": "2023-02-27T09:03:09.679470",
     "exception": false,
     "start_time": "2023-02-27T09:03:09.654782",
     "status": "completed"
    },
    "tags": []
   },
   "source": [
    "**Column 'weight'**"
   ]
  },
  {
   "cell_type": "code",
   "execution_count": null,
   "id": "0bc2aa71",
   "metadata": {
    "execution": {
     "iopub.execute_input": "2023-02-27T09:03:09.732836Z",
     "iopub.status.busy": "2023-02-27T09:03:09.732055Z",
     "iopub.status.idle": "2023-02-27T09:03:09.741567Z",
     "shell.execute_reply": "2023-02-27T09:03:09.740081Z"
    },
    "papermill": {
     "duration": 0.038961,
     "end_time": "2023-02-27T09:03:09.744022",
     "exception": false,
     "start_time": "2023-02-27T09:03:09.705061",
     "status": "completed"
    },
    "tags": []
   },
   "outputs": [
    {
     "name": "stdout",
     "output_type": "stream",
     "text": [
      "Unique values of 'weight':\n",
      "\tdf_train: [10.0, 11.0, 21.0, 22.0, 23.0, 28.0, 29.0, 30.0, 31.0, 32.0, 33.0, 34.0, 35.0, 35.45, 36.0, 37.0, 38.0, 39.0, 40.0, 41.0, 42.0, 42.2, 43.0, 44.0, 45.0, 45.8, 46.0, 47.0, 48.0, 49.0, 50.0, 50.5, 50.7, 51.0, 51.5, 52.0, 52.3, 53.0, 53.2, 53.3, 53.5, 53.6, 53.67, 53.9, 54.0, 54.35, 54.5, 54.9, 55.0, 55.2, 55.4, 55.6, 56.0, 56.2, 57.0, 57.4, 57.6, 57.8, 58.0, 58.5, 58.7, 58.8, 59.0, 59.2, 59.5, 59.8, 60.0, 60.1, 60.2, 60.5, 60.6, 61.0, 61.2, 61.3, 61.5, 62.0, 62.2, 62.3, 62.4, 62.5, 62.7, 63.0, 63.4, 63.8, 63.82, 64.0, 64.1, 64.3, 64.5, 64.7, 64.8, 65.0, 65.3, 65.5, 66.0, 66.3, 66.4, 66.5, 67.0, 67.3, 67.5, 67.8, 67.9, 68.0, 68.2, 68.3, 68.4, 68.5, 68.9, 69.0, 69.5, 69.8, 70.0, 70.2, 70.3, 70.5, 70.7, 70.8, 71.0, 71.2, 71.3, 71.5, 72.0, 72.1, 72.5, 72.8, 73.0, 73.2, 73.5, 73.8, 74.0, 74.2, 74.3, 74.5, 74.77, 75.0, 75.2, 75.5, 75.6, 76.0, 76.5, 76.7, 76.8, 77.0, 78.0, 78.2, 78.5, 79.0, 79.5, 79.94, 80.0, 80.5, 80.6, 80.7, 80.8, 81.0, 81.1, 82.0, 82.1, 82.3, 82.4, 82.5, 82.9, 83.0, 83.5, 83.6, 84.0, 84.3, 84.5, 84.6, 84.7, 84.8, 84.9, 85.0, 85.5, 86.0, 86.5, 87.0, 88.0, 88.5, 89.0, 89.1, 89.5, 89.9, 90.0, 90.5, 90.7, 91.0, 92.0, 92.2, 93.0, 94.0, 94.5, 94.7, 95.0, 96.0, 96.5, 97.0, 98.0, 99.0, 99.9, 100.0, 101.0, 102.0, 103.0, 104.0, 105.0, 105.5, 106.0, 106.4, 106.5, 107.0, 108.0, 109.0, 109.5, 109.7, 110.0, 111.0, 112.0, 113.0, 114.0, 114.6, 115.0, 116.0, 117.0, 118.0, 119.0, 120.0, 121.0, 121.3, 121.8, 122.0, 123.0, 124.0, 125.0, 126.0, 127.0, 128.0, 129.0, 130.0, 131.0, 132.0, 133.0, 134.0, 135.0, 136.0, 137.0, 138.0, 139.0, 140.0, 141.0, 142.0, 143.0, 144.0, 145.0, 146.0, 147.0, 148.0, 149.0, 150.0, 152.0, 153.0, 154.0, 155.0, 156.0, 158.0, 159.0, 160.0, 161.0, 162.0, 163.0, 164.0, 165.0, 166.0, 167.0, 168.0, 169.0, 170.0, 171.0, 172.0, 175.0, 177.0, 178.0, 180.0, 181.0, 183.0, 200.0]\n",
      "\tdf_test: [10.0, 13.0, 16.3, 20.0, 30.0, 31.0, 32.0, 34.0, 35.0, 37.0, 38.0, 39.0, 40.0, 41.0, 42.0, 43.0, 44.0, 45.0, 45.5, 46.0, 47.0, 48.0, 49.0, 50.0, 50.5, 51.0, 51.2, 52.0, 52.2, 53.0, 54.0, 55.0, 55.2, 56.0, 56.5, 57.0, 57.5, 58.0, 58.4, 59.0, 59.5, 59.85, 60.0, 60.2, 60.8, 61.0, 61.5, 62.0, 62.9, 63.0, 63.3, 63.5, 63.6, 64.0, 64.4, 64.6, 65.0, 65.5, 65.6, 66.0, 66.5, 67.0, 67.3, 67.5, 68.0, 68.5, 69.0, 69.5, 70.0, 70.2, 70.4, 71.0, 71.5, 71.7, 72.0, 72.2, 72.3, 72.4, 72.5, 72.6, 73.0, 73.4, 74.0, 74.5, 74.7, 74.8, 75.0, 75.3, 75.5, 76.0, 77.0, 78.0, 79.0, 79.3, 80.0, 80.6, 81.0, 81.3, 81.5, 82.0, 83.0, 83.7, 84.0, 84.5, 84.6, 84.7, 85.0, 85.5, 86.0, 87.0, 87.4, 87.7, 88.0, 88.45, 88.5, 88.6, 89.0, 89.5, 90.0, 90.5, 91.0, 92.0, 92.5, 93.0, 93.5, 93.94, 94.0, 95.0, 95.1, 96.0, 96.5, 97.0, 97.3, 97.5, 98.0, 99.0, 100.0, 101.0, 102.0, 103.0, 104.0, 104.5, 105.0, 106.0, 107.0, 108.0, 109.0, 110.0, 111.0, 111.5, 112.0, 113.0, 114.0, 115.0, 116.0, 117.0, 118.0, 119.0, 120.0, 121.0, 122.0, 123.0, 124.0, 125.0, 126.0, 127.0, 128.0, 129.0, 130.0, 131.0, 132.0, 134.0, 135.0, 136.0, 137.0, 138.0, 139.0, 140.0, 141.0, 143.0, 144.0, 145.0, 146.0, 148.0, 149.0, 150.0, 153.0, 155.0, 156.0, 158.0, 159.0, 161.0, 165.0, 167.0, 168.0, 169.0, 170.0, 171.0, 173.0, 175.0, 178.0, 180.0, 183.0]\n"
     ]
    }
   ],
   "source": [
    "unique_values('weight')"
   ]
  },
  {
   "cell_type": "markdown",
   "id": "cd394038",
   "metadata": {
    "papermill": {
     "duration": 0.024934,
     "end_time": "2023-02-27T09:03:09.794246",
     "exception": false,
     "start_time": "2023-02-27T09:03:09.769312",
     "status": "completed"
    },
    "tags": []
   },
   "source": [
    "It is clear that we are dealing with kilograms and not pounds.\n",
    "\n",
    "Since it's almost impossible for adult people to weigh as little as 30 or less kg (considering the fact that the lowest height is 140 cm), therefore, these values of weight will be changed to the median value considering their gender."
   ]
  },
  {
   "cell_type": "code",
   "execution_count": null,
   "id": "a39c850e",
   "metadata": {
    "execution": {
     "iopub.execute_input": "2023-02-27T09:03:09.847675Z",
     "iopub.status.busy": "2023-02-27T09:03:09.846379Z",
     "iopub.status.idle": "2023-02-27T09:03:09.911647Z",
     "shell.execute_reply": "2023-02-27T09:03:09.910371Z"
    },
    "papermill": {
     "duration": 0.094706,
     "end_time": "2023-02-27T09:03:09.914348",
     "exception": false,
     "start_time": "2023-02-27T09:03:09.819642",
     "status": "completed"
    },
    "tags": []
   },
   "outputs": [],
   "source": [
    "df_train.loc[(df_train['female'] == 0) & (df_train['weight'] <= 30), 'weight'] = df_train[df_train['female'] == 0]['weight'].median()\n",
    "df_train.loc[(df_train['female'] == 1) & (df_train['weight'] <= 30), 'weight'] = df_train[df_train['female'] == 1]['weight'].median()\n",
    "\n",
    "df_test.loc[(df_train['female'] == 0) & (df_test['weight'] <= 30), 'weight'] = df_test[df_test['female'] == 0]['weight'].median()\n",
    "df_test.loc[(df_train['female'] == 1) & (df_test['weight'] <= 30), 'weight'] = df_test[df_test['female'] == 1]['weight'].median()"
   ]
  },
  {
   "cell_type": "code",
   "execution_count": null,
   "id": "b4de0f38",
   "metadata": {
    "execution": {
     "iopub.execute_input": "2023-02-27T09:03:09.966972Z",
     "iopub.status.busy": "2023-02-27T09:03:09.966541Z",
     "iopub.status.idle": "2023-02-27T09:03:11.261140Z",
     "shell.execute_reply": "2023-02-27T09:03:11.260211Z"
    },
    "papermill": {
     "duration": 1.32375,
     "end_time": "2023-02-27T09:03:11.263441",
     "exception": false,
     "start_time": "2023-02-27T09:03:09.939691",
     "status": "completed"
    },
    "tags": []
   },
   "outputs": [
    {
     "data": {
      "image/png": "[encoded data removed]",
      "text/plain": [
       "<Figure size 640x480 with 1 Axes>"
      ]
     },
     "metadata": {},
     "output_type": "display_data"
    }
   ],
   "source": [
    "create_hist('weight')\n",
    "plt.title(\"Ratio of 'Weight' to 'Cardio' Values\")\n",
    "plt.show()"
   ]
  },
  {
   "cell_type": "markdown",
   "id": "e5c915ab",
   "metadata": {
    "execution": {
     "iopub.execute_input": "2023-02-22T09:08:46.308963Z",
     "iopub.status.busy": "2023-02-22T09:08:46.308509Z",
     "iopub.status.idle": "2023-02-22T09:08:46.318202Z",
     "shell.execute_reply": "2023-02-22T09:08:46.316102Z",
     "shell.execute_reply.started": "2023-02-22T09:08:46.308926Z"
    },
    "papermill": {
     "duration": 0.026194,
     "end_time": "2023-02-27T09:03:11.315694",
     "exception": false,
     "start_time": "2023-02-27T09:03:11.289500",
     "status": "completed"
    },
    "tags": []
   },
   "source": [
    "The portion of people with heart diseases increases with weight. At the end of histogram the values are distorted due to their deficiency. \n",
    "Taking into account this correlation between 'weight' and 'cardio' value, it might be reasonable to insert an additional column with body mass index."
   ]
  },
  {
   "cell_type": "code",
   "execution_count": null,
   "id": "296637ef",
   "metadata": {
    "execution": {
     "iopub.execute_input": "2023-02-27T09:03:11.370129Z",
     "iopub.status.busy": "2023-02-27T09:03:11.368936Z",
     "iopub.status.idle": "2023-02-27T09:03:11.403792Z",
     "shell.execute_reply": "2023-02-27T09:03:11.402554Z"
    },
    "papermill": {
     "duration": 0.065112,
     "end_time": "2023-02-27T09:03:11.406711",
     "exception": false,
     "start_time": "2023-02-27T09:03:11.341599",
     "status": "completed"
    },
    "tags": []
   },
   "outputs": [
    {
     "data": {
      "text/plain": [
       "16906   10.727\n",
       "51837   11.765\n",
       "58200   12.254\n",
       "16322   12.856\n",
       "38417   13.493\n",
       "         ...  \n",
       "37590   66.682\n",
       "18952   67.846\n",
       "40712   68.308\n",
       "27384   68.670\n",
       "36780   69.828\n",
       "Name: bmi, Length: 70000, dtype: float64"
      ]
     },
     "execution_count": 24,
     "metadata": {},
     "output_type": "execute_result"
    }
   ],
   "source": [
    "df_train['bmi'] = df_train['weight'] / ((df_train['height'] /100) ** 2)\n",
    "df_test['bmi'] = df_test['weight'] / ((df_train['height'] /100) ** 2)\n",
    "\n",
    "df_train = df_train.drop(['weight', 'height'], axis=1)\n",
    "df_test = df_test.drop(['weight', 'height'], axis=1)\n",
    "\n",
    "df_train['bmi'].sort_values()"
   ]
  },
  {
   "cell_type": "markdown",
   "id": "93d7e7bf",
   "metadata": {
    "papermill": {
     "duration": 0.02606,
     "end_time": "2023-02-27T09:03:11.460137",
     "exception": false,
     "start_time": "2023-02-27T09:03:11.434077",
     "status": "completed"
    },
    "tags": []
   },
   "source": [
    "**Columns 'ap_hi' & 'ap_lo'**"
   ]
  },
  {
   "cell_type": "markdown",
   "id": "12b8ec63",
   "metadata": {
    "papermill": {
     "duration": 0.026457,
     "end_time": "2023-02-27T09:03:11.513152",
     "exception": false,
     "start_time": "2023-02-27T09:03:11.486695",
     "status": "completed"
    },
    "tags": []
   },
   "source": [
    "Columns 'ap_hi' and 'ap_lo' stand for systolic and diastolic blood pressure correspondingly. These numbers are positive. Moreover, systolic blood pressure ('ap_hi') must be more than diastolic one ('ap_lo'). As a matter of fact the highest recorder blood pressure was 310 / 220. However, the critical values are considered to be 260 / 160. In this regard, systolic and diastolic blood pressure should be not more than 260 and 160 respectively. It is also worth mentioning that the normal blood pressure for both men and women is equal.\n",
    "\n",
    "Let's check whether the given data fits these criteria."
   ]
  },
  {
   "cell_type": "code",
   "execution_count": null,
   "id": "245280eb",
   "metadata": {
    "execution": {
     "iopub.execute_input": "2023-02-27T09:03:11.570497Z",
     "iopub.status.busy": "2023-02-27T09:03:11.569661Z",
     "iopub.status.idle": "2023-02-27T09:03:11.591928Z",
     "shell.execute_reply": "2023-02-27T09:03:11.590676Z"
    },
    "papermill": {
     "duration": 0.054939,
     "end_time": "2023-02-27T09:03:11.594561",
     "exception": false,
     "start_time": "2023-02-27T09:03:11.539622",
     "status": "completed"
    },
    "tags": []
   },
   "outputs": [
    {
     "name": "stdout",
     "output_type": "stream",
     "text": [
      "Values of 'ap_hi':\n",
      "\tdf_train\n"
     ]
    },
    {
     "data": {
      "text/plain": [
       "35040     -150\n",
       "23988     -140\n",
       "46627     -120\n",
       "25240     -120\n",
       "16021     -115\n",
       "         ...  \n",
       "47253    14020\n",
       "25464    14020\n",
       "25519    14020\n",
       "46912    14020\n",
       "40852    16020\n",
       "Name: ap_hi, Length: 70000, dtype: int64"
      ]
     },
     "metadata": {},
     "output_type": "display_data"
    },
    {
     "name": "stdout",
     "output_type": "stream",
     "text": [
      "\n",
      "\tdf_test\n"
     ]
    },
    {
     "data": {
      "text/plain": [
       "21811     -130\n",
       "22231      -12\n",
       "15510        1\n",
       "1929         1\n",
       "12852        1\n",
       "         ...  \n",
       "9399     14020\n",
       "13563    14020\n",
       "7755     14020\n",
       "14449    14900\n",
       "8852     16020\n",
       "Name: ap_hi, Length: 30000, dtype: int64"
      ]
     },
     "metadata": {},
     "output_type": "display_data"
    }
   ],
   "source": [
    "print(\"Values of 'ap_hi':\")\n",
    "print(\"\\tdf_train\")\n",
    "display(df_train['ap_hi'].sort_values())\n",
    "print(\"\\n\\tdf_test\")\n",
    "display(df_test['ap_hi'].sort_values())"
   ]
  },
  {
   "cell_type": "code",
   "execution_count": null,
   "id": "250fbce8",
   "metadata": {
    "execution": {
     "iopub.execute_input": "2023-02-27T09:03:11.651528Z",
     "iopub.status.busy": "2023-02-27T09:03:11.651096Z",
     "iopub.status.idle": "2023-02-27T09:03:11.671449Z",
     "shell.execute_reply": "2023-02-27T09:03:11.670132Z"
    },
    "papermill": {
     "duration": 0.05105,
     "end_time": "2023-02-27T09:03:11.674093",
     "exception": false,
     "start_time": "2023-02-27T09:03:11.623043",
     "status": "completed"
    },
    "tags": []
   },
   "outputs": [
    {
     "name": "stdout",
     "output_type": "stream",
     "text": [
      "Values of 'ap_lo':\n",
      "\tdf_train:\n"
     ]
    },
    {
     "data": {
      "text/plain": [
       "60106      -70\n",
       "40330        0\n",
       "42397        0\n",
       "56950        0\n",
       "63787        0\n",
       "         ...  \n",
       "43434     9800\n",
       "68538    10000\n",
       "23849    10000\n",
       "2381     10000\n",
       "43326    11000\n",
       "Name: ap_lo, Length: 70000, dtype: int64"
      ]
     },
     "metadata": {},
     "output_type": "display_data"
    },
    {
     "name": "stdout",
     "output_type": "stream",
     "text": [
      "\n",
      "\tdf_test:\n"
     ]
    },
    {
     "data": {
      "text/plain": [
       "24125     -90\n",
       "18857       0\n",
       "24538       0\n",
       "15437       0\n",
       "7906        0\n",
       "         ... \n",
       "13161    8099\n",
       "15242    8100\n",
       "22352    8100\n",
       "18976    9100\n",
       "8085     9100\n",
       "Name: ap_lo, Length: 30000, dtype: int64"
      ]
     },
     "metadata": {},
     "output_type": "display_data"
    }
   ],
   "source": [
    "print(\"Values of 'ap_lo':\")\n",
    "print('\\tdf_train:')\n",
    "display(df_train['ap_lo'].sort_values())\n",
    "print('\\n\\tdf_test:')\n",
    "display(df_test['ap_lo'].sort_values())"
   ]
  },
  {
   "cell_type": "code",
   "execution_count": null,
   "id": "1b2fecc9",
   "metadata": {
    "execution": {
     "iopub.execute_input": "2023-02-27T09:03:11.733863Z",
     "iopub.status.busy": "2023-02-27T09:03:11.733421Z",
     "iopub.status.idle": "2023-02-27T09:03:11.747549Z",
     "shell.execute_reply": "2023-02-27T09:03:11.746390Z"
    },
    "papermill": {
     "duration": 0.047094,
     "end_time": "2023-02-27T09:03:11.750025",
     "exception": false,
     "start_time": "2023-02-27T09:03:11.702931",
     "status": "completed"
    },
    "tags": []
   },
   "outputs": [],
   "source": [
    "# Taking the absolute value of negative values\n",
    "df_train.loc[df_train['ap_hi'] < 0, 'ap_hi'] *= -1\n",
    "df_test.loc[df_test['ap_hi'] < 0, 'ap_hi'] *= -1\n",
    "\n",
    "df_train.loc[df_train['ap_lo'] < 0, 'ap_lo'] *= -1\n",
    "df_test.loc[df_test['ap_lo'] < 0, 'ap_lo'] *= -1"
   ]
  },
  {
   "cell_type": "code",
   "execution_count": null,
   "id": "caa41a25",
   "metadata": {
    "execution": {
     "iopub.execute_input": "2023-02-27T09:03:11.806976Z",
     "iopub.status.busy": "2023-02-27T09:03:11.806566Z",
     "iopub.status.idle": "2023-02-27T09:03:11.824813Z",
     "shell.execute_reply": "2023-02-27T09:03:11.823319Z"
    },
    "papermill": {
     "duration": 0.050334,
     "end_time": "2023-02-27T09:03:11.827744",
     "exception": false,
     "start_time": "2023-02-27T09:03:11.777410",
     "status": "completed"
    },
    "tags": []
   },
   "outputs": [],
   "source": [
    "# Dividing all the ap_hi values of more than 700 and all the ap_lo values of more than 500 by 10\n",
    "df_train.loc[(df_train['ap_hi'] > 700), 'ap_hi'] /= 10\n",
    "df_train.loc[df_train['ap_lo'] > 500, 'ap_hi'] /= 10\n",
    "\n",
    "df_test.loc[df_test['ap_hi'] > 700, 'ap_hi'] /= 10\n",
    "df_test.loc[df_test['ap_lo'] > 500, 'ap_hi'] /= 10"
   ]
  },
  {
   "cell_type": "code",
   "execution_count": null,
   "id": "ccfdc74b",
   "metadata": {
    "execution": {
     "iopub.execute_input": "2023-02-27T09:03:11.884785Z",
     "iopub.status.busy": "2023-02-27T09:03:11.884368Z",
     "iopub.status.idle": "2023-02-27T09:03:11.900431Z",
     "shell.execute_reply": "2023-02-27T09:03:11.899340Z"
    },
    "papermill": {
     "duration": 0.047846,
     "end_time": "2023-02-27T09:03:11.903094",
     "exception": false,
     "start_time": "2023-02-27T09:03:11.855248",
     "status": "completed"
    },
    "tags": []
   },
   "outputs": [],
   "source": [
    "# Some of the values may miss a zero, therefore, they should be multiplied by 10\n",
    "df_train.loc[(df_train['ap_hi'] >= 7) & (df_train['ap_hi'] <= 26), 'ap_hi'] *= 10\n",
    "df_train.loc[(df_train['ap_lo'] >= 5) & (df_train['ap_lo'] <= 16), 'ap_lo'] *= 10\n",
    "\n",
    "df_test.loc[(df_test['ap_hi'] >= 7) & (df_test['ap_hi'] <= 26), 'ap_hi'] *= 10\n",
    "df_test.loc[(df_test['ap_lo'] >= 5) & (df_test['ap_lo'] <= 16), 'ap_lo'] *= 10"
   ]
  },
  {
   "cell_type": "code",
   "execution_count": null,
   "id": "bf667026",
   "metadata": {
    "execution": {
     "iopub.execute_input": "2023-02-27T09:03:11.959606Z",
     "iopub.status.busy": "2023-02-27T09:03:11.959137Z",
     "iopub.status.idle": "2023-02-27T09:03:11.969937Z",
     "shell.execute_reply": "2023-02-27T09:03:11.968742Z"
    },
    "papermill": {
     "duration": 0.042093,
     "end_time": "2023-02-27T09:03:11.972680",
     "exception": false,
     "start_time": "2023-02-27T09:03:11.930587",
     "status": "completed"
    },
    "tags": []
   },
   "outputs": [],
   "source": [
    "# Saving median values of ap_hi & ap_lo of each dataset to separate variables\n",
    "train_median_ap_hi = df_train['ap_hi'].median()\n",
    "test_median_ap_hi = df_test['ap_hi'].median()\n",
    "\n",
    "train_median_ap_lo = df_train['ap_lo'].median()\n",
    "test_median_ap_lo = df_test['ap_lo'].median()"
   ]
  },
  {
   "cell_type": "code",
   "execution_count": null,
   "id": "cc21045c",
   "metadata": {
    "execution": {
     "iopub.execute_input": "2023-02-27T09:03:12.028082Z",
     "iopub.status.busy": "2023-02-27T09:03:12.027644Z",
     "iopub.status.idle": "2023-02-27T09:03:12.041057Z",
     "shell.execute_reply": "2023-02-27T09:03:12.040193Z"
    },
    "papermill": {
     "duration": 0.044108,
     "end_time": "2023-02-27T09:03:12.043585",
     "exception": false,
     "start_time": "2023-02-27T09:03:11.999477",
     "status": "completed"
    },
    "tags": []
   },
   "outputs": [],
   "source": [
    "# If ap_hi > 260 / ap_hi < 70 or ap_lo > 160 / ap_lo < 50, change to median values\n",
    "df_train.loc[(df_train['ap_hi'] > 260) | (df_train['ap_hi'] < 70), 'ap_hi'] = train_median_ap_hi\n",
    "df_test.loc[(df_test['ap_hi'] > 260) | (df_test['ap_hi'] < 70), 'ap_hi'] = test_median_ap_hi\n",
    "\n",
    "df_train.loc[(df_train['ap_lo'] > 160) | (df_train['ap_lo'] < 50), 'ap_lo'] = train_median_ap_lo\n",
    "df_test.loc[(df_test['ap_lo'] > 160) | (df_test['ap_lo'] < 50), 'ap_lo'] = test_median_ap_lo"
   ]
  },
  {
   "cell_type": "code",
   "execution_count": null,
   "id": "2f0a9f19",
   "metadata": {
    "execution": {
     "iopub.execute_input": "2023-02-27T09:03:12.099612Z",
     "iopub.status.busy": "2023-02-27T09:03:12.099159Z",
     "iopub.status.idle": "2023-02-27T09:03:12.110749Z",
     "shell.execute_reply": "2023-02-27T09:03:12.109552Z"
    },
    "papermill": {
     "duration": 0.042606,
     "end_time": "2023-02-27T09:03:12.113258",
     "exception": false,
     "start_time": "2023-02-27T09:03:12.070652",
     "status": "completed"
    },
    "tags": []
   },
   "outputs": [],
   "source": [
    "# ap_hi & ap_lo should also change to median values if ap_lo > ap_hi which is incorrect by definition\n",
    "df_train.loc[df_train['ap_hi'] < df_train['ap_lo'], 'ap_hi'] = train_median_ap_hi\n",
    "df_test.loc[df_test['ap_hi'] < df_test['ap_lo'], 'ap_hi'] = test_median_ap_hi\n",
    "\n",
    "df_train.loc[df_train['ap_hi'] < df_train['ap_lo'], 'ap_lo'] = train_median_ap_lo\n",
    "df_test.loc[df_test['ap_hi'] < df_test['ap_lo'], 'ap_lo'] = test_median_ap_lo"
   ]
  },
  {
   "cell_type": "code",
   "execution_count": null,
   "id": "d45e7377",
   "metadata": {
    "execution": {
     "iopub.execute_input": "2023-02-27T09:03:12.169060Z",
     "iopub.status.busy": "2023-02-27T09:03:12.168626Z",
     "iopub.status.idle": "2023-02-27T09:03:13.460864Z",
     "shell.execute_reply": "2023-02-27T09:03:13.459721Z"
    },
    "papermill": {
     "duration": 1.322914,
     "end_time": "2023-02-27T09:03:13.463485",
     "exception": false,
     "start_time": "2023-02-27T09:03:12.140571",
     "status": "completed"
    },
    "tags": []
   },
   "outputs": [
    {
     "data": {
      "image/png": "[encoded data removed]",
      "text/plain": [
       "<Figure size 640x480 with 1 Axes>"
      ]
     },
     "metadata": {},
     "output_type": "display_data"
    }
   ],
   "source": [
    "create_hist('ap_hi')\n",
    "plt.title(\"Ratio of 'High Blood Pressure' to 'Cardio' Values\")\n",
    "plt.xlabel(\"High Blood Pressure\")\n",
    "plt.ylabel('Number of People')\n",
    "plt.show()"
   ]
  },
  {
   "cell_type": "code",
   "execution_count": null,
   "id": "bb77a2eb",
   "metadata": {
    "execution": {
     "iopub.execute_input": "2023-02-27T09:03:13.520667Z",
     "iopub.status.busy": "2023-02-27T09:03:13.520196Z",
     "iopub.status.idle": "2023-02-27T09:03:14.878679Z",
     "shell.execute_reply": "2023-02-27T09:03:14.877493Z"
    },
    "papermill": {
     "duration": 1.390644,
     "end_time": "2023-02-27T09:03:14.881890",
     "exception": false,
     "start_time": "2023-02-27T09:03:13.491246",
     "status": "completed"
    },
    "tags": []
   },
   "outputs": [
    {
     "data": {
      "image/png": "[encoded data removed]",
      "text/plain": [
       "<Figure size 640x480 with 1 Axes>"
      ]
     },
     "metadata": {},
     "output_type": "display_data"
    }
   ],
   "source": [
    "create_hist('ap_lo')\n",
    "plt.title(\"Ratio of 'Low Blood Pressure' to 'Cardio' Values\")\n",
    "plt.xlabel(\"Low Blood Pressure\")\n",
    "plt.ylabel('Number of People')\n",
    "plt.show()"
   ]
  },
  {
   "cell_type": "markdown",
   "id": "9085f213",
   "metadata": {
    "papermill": {
     "duration": 0.028039,
     "end_time": "2023-02-27T09:03:14.943482",
     "exception": false,
     "start_time": "2023-02-27T09:03:14.915443",
     "status": "completed"
    },
    "tags": []
   },
   "source": [
    "**Column 'Cholesterol'**"
   ]
  },
  {
   "cell_type": "markdown",
   "id": "584ad2e5",
   "metadata": {
    "papermill": {
     "duration": 0.028182,
     "end_time": "2023-02-27T09:03:14.999583",
     "exception": false,
     "start_time": "2023-02-27T09:03:14.971401",
     "status": "completed"
    },
    "tags": []
   },
   "source": [
    "It is likely that different values of Cholersterol refer to different amoutn of cholesterol. In this particular case the cholesterol levels are divided into three group with the values of 1, 2 and 3 correpsondingly."
   ]
  },
  {
   "cell_type": "code",
   "execution_count": null,
   "id": "4caf29d0",
   "metadata": {
    "execution": {
     "iopub.execute_input": "2023-02-27T09:03:15.060246Z",
     "iopub.status.busy": "2023-02-27T09:03:15.059863Z",
     "iopub.status.idle": "2023-02-27T09:03:15.067127Z",
     "shell.execute_reply": "2023-02-27T09:03:15.065578Z"
    },
    "papermill": {
     "duration": 0.03997,
     "end_time": "2023-02-27T09:03:15.070052",
     "exception": false,
     "start_time": "2023-02-27T09:03:15.030082",
     "status": "completed"
    },
    "tags": []
   },
   "outputs": [
    {
     "name": "stdout",
     "output_type": "stream",
     "text": [
      "Unique values of 'cholesterol':\n",
      "\tdf_train: [1, 2, 3]\n",
      "\tdf_test: [1, 2, 3]\n"
     ]
    }
   ],
   "source": [
    "unique_values('cholesterol')"
   ]
  },
  {
   "cell_type": "code",
   "execution_count": null,
   "id": "9f2913be",
   "metadata": {
    "execution": {
     "iopub.execute_input": "2023-02-27T09:03:15.131352Z",
     "iopub.status.busy": "2023-02-27T09:03:15.130755Z",
     "iopub.status.idle": "2023-02-27T09:03:15.430018Z",
     "shell.execute_reply": "2023-02-27T09:03:15.428873Z"
    },
    "papermill": {
     "duration": 0.331077,
     "end_time": "2023-02-27T09:03:15.432494",
     "exception": false,
     "start_time": "2023-02-27T09:03:15.101417",
     "status": "completed"
    },
    "tags": []
   },
   "outputs": [
    {
     "data": {
      "image/png": "[encoded data removed]",
      "text/plain": [
       "<Figure size 640x480 with 1 Axes>"
      ]
     },
     "metadata": {},
     "output_type": "display_data"
    }
   ],
   "source": [
    "create_hist_for_several_values('cholesterol')\n",
    "plt.title(\"Ratio of 'Cholesterol' to 'Cardio' Values\")\n",
    "plt.xticks(np.arange(1, 4))\n",
    "plt.show()"
   ]
  },
  {
   "cell_type": "markdown",
   "id": "f479b27b",
   "metadata": {
    "execution": {
     "iopub.execute_input": "2023-02-22T12:52:59.518045Z",
     "iopub.status.busy": "2023-02-22T12:52:59.517258Z",
     "iopub.status.idle": "2023-02-22T12:52:59.552328Z",
     "shell.execute_reply": "2023-02-22T12:52:59.551132Z",
     "shell.execute_reply.started": "2023-02-22T12:52:59.517616Z"
    },
    "papermill": {
     "duration": 0.027806,
     "end_time": "2023-02-27T09:03:15.488398",
     "exception": false,
     "start_time": "2023-02-27T09:03:15.460592",
     "status": "completed"
    },
    "tags": []
   },
   "source": [
    "People with the value of 'Cholesterol' of 3 hvae heart diseases more often than others which can clearly be seen on the histogram above."
   ]
  },
  {
   "cell_type": "markdown",
   "id": "06f892ee",
   "metadata": {
    "papermill": {
     "duration": 0.027794,
     "end_time": "2023-02-27T09:03:15.544457",
     "exception": false,
     "start_time": "2023-02-27T09:03:15.516663",
     "status": "completed"
    },
    "tags": []
   },
   "source": [
    "**Column 'gluc'**"
   ]
  },
  {
   "cell_type": "markdown",
   "id": "70b31705",
   "metadata": {
    "papermill": {
     "duration": 0.028861,
     "end_time": "2023-02-27T09:03:15.603465",
     "exception": false,
     "start_time": "2023-02-27T09:03:15.574604",
     "status": "completed"
    },
    "tags": []
   },
   "source": [
    "Glucose parameter as well as cholesterol indicates the level of glucose in blood of a person. The glucose levels are also divided into 3 groups: 1, 2 and 3 respectively."
   ]
  },
  {
   "cell_type": "code",
   "execution_count": null,
   "id": "c18f6f8f",
   "metadata": {
    "execution": {
     "iopub.execute_input": "2023-02-27T09:03:15.662273Z",
     "iopub.status.busy": "2023-02-27T09:03:15.661514Z",
     "iopub.status.idle": "2023-02-27T09:03:15.669139Z",
     "shell.execute_reply": "2023-02-27T09:03:15.667210Z"
    },
    "papermill": {
     "duration": 0.040333,
     "end_time": "2023-02-27T09:03:15.672161",
     "exception": false,
     "start_time": "2023-02-27T09:03:15.631828",
     "status": "completed"
    },
    "tags": []
   },
   "outputs": [
    {
     "name": "stdout",
     "output_type": "stream",
     "text": [
      "Unique values of 'gluc':\n",
      "\tdf_train: [1, 2, 3]\n",
      "\tdf_test: [1, 2, 3]\n"
     ]
    }
   ],
   "source": [
    "unique_values('gluc')"
   ]
  },
  {
   "cell_type": "code",
   "execution_count": null,
   "id": "6665f4f8",
   "metadata": {
    "execution": {
     "iopub.execute_input": "2023-02-27T09:03:15.732556Z",
     "iopub.status.busy": "2023-02-27T09:03:15.732099Z",
     "iopub.status.idle": "2023-02-27T09:03:16.032094Z",
     "shell.execute_reply": "2023-02-27T09:03:16.031142Z"
    },
    "papermill": {
     "duration": 0.333893,
     "end_time": "2023-02-27T09:03:16.034794",
     "exception": false,
     "start_time": "2023-02-27T09:03:15.700901",
     "status": "completed"
    },
    "tags": []
   },
   "outputs": [
    {
     "data": {
      "image/png": "[encoded data removed]",
      "text/plain": [
       "<Figure size 640x480 with 1 Axes>"
      ]
     },
     "metadata": {},
     "output_type": "display_data"
    }
   ],
   "source": [
    "create_hist_for_several_values('gluc')\n",
    "plt.title(\"Ratio of 'Gluc' to 'Cardio' Values\")\n",
    "plt.xticks(np.arange(1, 4))\n",
    "plt.show()"
   ]
  },
  {
   "cell_type": "markdown",
   "id": "3dfb7cfc",
   "metadata": {
    "papermill": {
     "duration": 0.02914,
     "end_time": "2023-02-27T09:03:16.093374",
     "exception": false,
     "start_time": "2023-02-27T09:03:16.064234",
     "status": "completed"
    },
    "tags": []
   },
   "source": [
    "With the increase of glucose level in blood grows the chance of having a heart disease, as around 60% of people with glucose level 3 have heart diseases."
   ]
  },
  {
   "cell_type": "markdown",
   "id": "39856444",
   "metadata": {
    "papermill": {
     "duration": 0.028408,
     "end_time": "2023-02-27T09:03:16.150480",
     "exception": false,
     "start_time": "2023-02-27T09:03:16.122072",
     "status": "completed"
    },
    "tags": []
   },
   "source": [
    "**Column 'smoke'**"
   ]
  },
  {
   "cell_type": "code",
   "execution_count": null,
   "id": "4a69f2c7",
   "metadata": {
    "execution": {
     "iopub.execute_input": "2023-02-27T09:03:16.209493Z",
     "iopub.status.busy": "2023-02-27T09:03:16.209012Z",
     "iopub.status.idle": "2023-02-27T09:03:16.216470Z",
     "shell.execute_reply": "2023-02-27T09:03:16.214978Z"
    },
    "papermill": {
     "duration": 0.040324,
     "end_time": "2023-02-27T09:03:16.219416",
     "exception": false,
     "start_time": "2023-02-27T09:03:16.179092",
     "status": "completed"
    },
    "tags": []
   },
   "outputs": [
    {
     "name": "stdout",
     "output_type": "stream",
     "text": [
      "Unique values of 'smoke':\n",
      "\tdf_train: [0, 1]\n",
      "\tdf_test: [0, 1]\n"
     ]
    }
   ],
   "source": [
    "unique_values('smoke')"
   ]
  },
  {
   "cell_type": "code",
   "execution_count": null,
   "id": "3d5be253",
   "metadata": {
    "execution": {
     "iopub.execute_input": "2023-02-27T09:03:16.281238Z",
     "iopub.status.busy": "2023-02-27T09:03:16.280783Z",
     "iopub.status.idle": "2023-02-27T09:03:16.576123Z",
     "shell.execute_reply": "2023-02-27T09:03:16.574819Z"
    },
    "papermill": {
     "duration": 0.329962,
     "end_time": "2023-02-27T09:03:16.578995",
     "exception": false,
     "start_time": "2023-02-27T09:03:16.249033",
     "status": "completed"
    },
    "tags": []
   },
   "outputs": [
    {
     "data": {
      "image/png": "[encoded data removed]",
      "text/plain": [
       "<Figure size 640x480 with 1 Axes>"
      ]
     },
     "metadata": {},
     "output_type": "display_data"
    }
   ],
   "source": [
    "create_hist_for_several_values('smoke')\n",
    "plt.title(\"Ratio of 'Smoke' to 'Cardio' Values\")\n",
    "plt.xticks(np.arange(0, 2))\n",
    "plt.show()"
   ]
  },
  {
   "cell_type": "markdown",
   "id": "4f39555d",
   "metadata": {
    "papermill": {
     "duration": 0.028807,
     "end_time": "2023-02-27T09:03:16.636987",
     "exception": false,
     "start_time": "2023-02-27T09:03:16.608180",
     "status": "completed"
    },
    "tags": []
   },
   "source": [
    "Surpisingly, people who smoke more seldom have heart diseases than others according to the graph shown above. However, the difference is slight and this statement may not be true for 100%."
   ]
  },
  {
   "cell_type": "markdown",
   "id": "9fdd30f8",
   "metadata": {
    "papermill": {
     "duration": 0.02907,
     "end_time": "2023-02-27T09:03:16.695562",
     "exception": false,
     "start_time": "2023-02-27T09:03:16.666492",
     "status": "completed"
    },
    "tags": []
   },
   "source": [
    "**Column 'alco'**"
   ]
  },
  {
   "cell_type": "code",
   "execution_count": null,
   "id": "cf4fa56f",
   "metadata": {
    "execution": {
     "iopub.execute_input": "2023-02-27T09:03:16.756643Z",
     "iopub.status.busy": "2023-02-27T09:03:16.756184Z",
     "iopub.status.idle": "2023-02-27T09:03:16.763243Z",
     "shell.execute_reply": "2023-02-27T09:03:16.761971Z"
    },
    "papermill": {
     "duration": 0.041467,
     "end_time": "2023-02-27T09:03:16.766418",
     "exception": false,
     "start_time": "2023-02-27T09:03:16.724951",
     "status": "completed"
    },
    "tags": []
   },
   "outputs": [
    {
     "name": "stdout",
     "output_type": "stream",
     "text": [
      "Unique values of 'alco':\n",
      "\tdf_train: [0, 1]\n",
      "\tdf_test: [0, 1]\n"
     ]
    }
   ],
   "source": [
    "unique_values('alco')"
   ]
  },
  {
   "cell_type": "code",
   "execution_count": null,
   "id": "8f0e4032",
   "metadata": {
    "execution": {
     "iopub.execute_input": "2023-02-27T09:03:16.830582Z",
     "iopub.status.busy": "2023-02-27T09:03:16.830029Z",
     "iopub.status.idle": "2023-02-27T09:03:17.122081Z",
     "shell.execute_reply": "2023-02-27T09:03:17.120939Z"
    },
    "papermill": {
     "duration": 0.326707,
     "end_time": "2023-02-27T09:03:17.124591",
     "exception": false,
     "start_time": "2023-02-27T09:03:16.797884",
     "status": "completed"
    },
    "tags": []
   },
   "outputs": [
    {
     "data": {
      "image/png": "[encoded data removed]",
      "text/plain": [
       "<Figure size 640x480 with 1 Axes>"
      ]
     },
     "metadata": {},
     "output_type": "display_data"
    }
   ],
   "source": [
    "create_hist_for_several_values('alco')\n",
    "plt.title(\"Ratio of 'Alco' to 'Cardio' Values\")\n",
    "plt.xticks(np.arange(0, 2))\n",
    "plt.show()"
   ]
  },
  {
   "cell_type": "markdown",
   "id": "868579bb",
   "metadata": {
    "execution": {
     "iopub.execute_input": "2023-02-22T13:20:08.275164Z",
     "iopub.status.busy": "2023-02-22T13:20:08.274798Z",
     "iopub.status.idle": "2023-02-22T13:20:08.281287Z",
     "shell.execute_reply": "2023-02-22T13:20:08.280131Z",
     "shell.execute_reply.started": "2023-02-22T13:20:08.275135Z"
    },
    "papermill": {
     "duration": 0.031999,
     "end_time": "2023-02-27T09:03:17.186996",
     "exception": false,
     "start_time": "2023-02-27T09:03:17.154997",
     "status": "completed"
    },
    "tags": []
   },
   "source": [
    "According to the histogram, people who drink alcohol are slightly less likely to have heart diseases. Nonetheless, the difference is miserable."
   ]
  },
  {
   "cell_type": "markdown",
   "id": "8b9b65b5",
   "metadata": {
    "papermill": {
     "duration": 0.029796,
     "end_time": "2023-02-27T09:03:17.246818",
     "exception": false,
     "start_time": "2023-02-27T09:03:17.217022",
     "status": "completed"
    },
    "tags": []
   },
   "source": [
    "**Column 'active'**"
   ]
  },
  {
   "cell_type": "code",
   "execution_count": null,
   "id": "52909285",
   "metadata": {
    "execution": {
     "iopub.execute_input": "2023-02-27T09:03:17.310555Z",
     "iopub.status.busy": "2023-02-27T09:03:17.309883Z",
     "iopub.status.idle": "2023-02-27T09:03:17.316742Z",
     "shell.execute_reply": "2023-02-27T09:03:17.315335Z"
    },
    "papermill": {
     "duration": 0.043209,
     "end_time": "2023-02-27T09:03:17.321016",
     "exception": false,
     "start_time": "2023-02-27T09:03:17.277807",
     "status": "completed"
    },
    "tags": []
   },
   "outputs": [
    {
     "name": "stdout",
     "output_type": "stream",
     "text": [
      "Unique values of 'active':\n",
      "\tdf_train: [0, 1]\n",
      "\tdf_test: [0, 1]\n"
     ]
    }
   ],
   "source": [
    "unique_values('active')"
   ]
  },
  {
   "cell_type": "code",
   "execution_count": null,
   "id": "ec89c377",
   "metadata": {
    "execution": {
     "iopub.execute_input": "2023-02-27T09:03:17.383392Z",
     "iopub.status.busy": "2023-02-27T09:03:17.381867Z",
     "iopub.status.idle": "2023-02-27T09:03:17.683829Z",
     "shell.execute_reply": "2023-02-27T09:03:17.682564Z"
    },
    "papermill": {
     "duration": 0.335375,
     "end_time": "2023-02-27T09:03:17.686496",
     "exception": false,
     "start_time": "2023-02-27T09:03:17.351121",
     "status": "completed"
    },
    "tags": []
   },
   "outputs": [
    {
     "data": {
      "image/png": "[encoded data removed]",
      "text/plain": [
       "<Figure size 640x480 with 1 Axes>"
      ]
     },
     "metadata": {},
     "output_type": "display_data"
    }
   ],
   "source": [
    "create_hist_for_several_values('active')\n",
    "plt.title(\"Ratio of 'Active' to 'Cardio' Values\")\n",
    "plt.xticks(np.arange(0, 2))\n",
    "plt.show()"
   ]
  },
  {
   "cell_type": "markdown",
   "id": "28cb484d",
   "metadata": {
    "papermill": {
     "duration": 0.031038,
     "end_time": "2023-02-27T09:03:17.748440",
     "exception": false,
     "start_time": "2023-02-27T09:03:17.717402",
     "status": "completed"
    },
    "tags": []
   },
   "source": [
    "Among active people heart diseases occur a little more rarely than among non-active ones. "
   ]
  },
  {
   "cell_type": "markdown",
   "id": "68c60b38",
   "metadata": {
    "papermill": {
     "duration": 0.031807,
     "end_time": "2023-02-27T09:03:17.810612",
     "exception": false,
     "start_time": "2023-02-27T09:03:17.778805",
     "status": "completed"
    },
    "tags": []
   },
   "source": [
    "**Phik correlation between all of the parameters**"
   ]
  },
  {
   "cell_type": "code",
   "execution_count": null,
   "id": "67b2296d",
   "metadata": {
    "execution": {
     "iopub.execute_input": "2023-02-27T09:03:17.875733Z",
     "iopub.status.busy": "2023-02-27T09:03:17.874966Z",
     "iopub.status.idle": "2023-02-27T09:03:21.734877Z",
     "shell.execute_reply": "2023-02-27T09:03:21.733293Z"
    },
    "papermill": {
     "duration": 3.897206,
     "end_time": "2023-02-27T09:03:21.738510",
     "exception": false,
     "start_time": "2023-02-27T09:03:17.841304",
     "status": "completed"
    },
    "tags": []
   },
   "outputs": [
    {
     "name": "stdout",
     "output_type": "stream",
     "text": [
      "interval columns not set, guessing: ['age', 'female', 'ap_hi', 'ap_lo', 'cholesterol', 'gluc', 'smoke', 'alco', 'active', 'cardio', 'bmi']\n"
     ]
    },
    {
     "data": {
      "image/png": "[encoded data removed]",
      "text/plain": [
       "<Figure size 700x500 with 2 Axes>"
      ]
     },
     "metadata": {},
     "output_type": "display_data"
    }
   ],
   "source": [
    "phik_overview = df_train.phik_matrix()\n",
    "phik_overview.round(2)\n",
    "\n",
    "plot_correlation_matrix(\n",
    "    phik_overview.values,\n",
    "    x_labels=phik_overview.columns,\n",
    "    y_labels=phik_overview.index,\n",
    "    vmin=0,\n",
    "    vmax=1    \n",
    ")"
   ]
  },
  {
   "cell_type": "markdown",
   "id": "9ff97013",
   "metadata": {
    "papermill": {
     "duration": 0.031503,
     "end_time": "2023-02-27T09:03:21.804272",
     "exception": false,
     "start_time": "2023-02-27T09:03:21.772769",
     "status": "completed"
    },
    "tags": []
   },
   "source": [
    "There are various correlations between the target variable - 'cardio' - and predictors. High blood pressure correlates relatively high with the presence of heart disease. The index of correlation phik for this parameters are 0.60. The next one is low blood pressure with the index of 0.47. Then go body mass index, age and weight with the indexes of 0.25, 0.24 and 0.23 correspondingly."
   ]
  },
  {
   "cell_type": "markdown",
   "id": "bd734cc3",
   "metadata": {
    "papermill": {
     "duration": 0.031914,
     "end_time": "2023-02-27T09:03:21.867475",
     "exception": false,
     "start_time": "2023-02-27T09:03:21.835561",
     "status": "completed"
    },
    "tags": []
   },
   "source": [
    "<a name='ml_models'></a>\n",
    "# 4. Development of ML-models"
   ]
  },
  {
   "cell_type": "markdown",
   "id": "c071e0ff",
   "metadata": {
    "papermill": {
     "duration": 0.031159,
     "end_time": "2023-02-27T09:03:21.930234",
     "exception": false,
     "start_time": "2023-02-27T09:03:21.899075",
     "status": "completed"
    },
    "tags": []
   },
   "source": [
    "This is a task of classification, therefore, relevant models should be used. Under this project, it will be:\n",
    "- DecisionTreeClassifier;\n",
    "- RandomForestClassifier;\n",
    "- LogisticRegression;\n",
    "- SVC (Support Vector Classifier);\n",
    "- KNN (K-Nearest Neighbors).\n",
    "\n",
    "The evaluation metric for this competition is **ROC-AUC**."
   ]
  },
  {
   "cell_type": "code",
   "execution_count": null,
   "id": "e8ef27dc",
   "metadata": {
    "execution": {
     "iopub.execute_input": "2023-02-27T09:03:21.996377Z",
     "iopub.status.busy": "2023-02-27T09:03:21.995337Z",
     "iopub.status.idle": "2023-02-27T09:03:22.021040Z",
     "shell.execute_reply": "2023-02-27T09:03:22.019731Z"
    },
    "papermill": {
     "duration": 0.061804,
     "end_time": "2023-02-27T09:03:22.023841",
     "exception": false,
     "start_time": "2023-02-27T09:03:21.962037",
     "status": "completed"
    },
    "tags": []
   },
   "outputs": [],
   "source": [
    "# Dividing the df_train into train and valid datasets.\n",
    "X = df_train.drop('cardio', axis=1)\n",
    "y = df_train['cardio']\n",
    "\n",
    "X_train, X_valid, y_train, y_valid = train_test_split(\n",
    "    X, y, random_state=42, test_size=0.25\n",
    ")"
   ]
  },
  {
   "cell_type": "code",
   "execution_count": null,
   "id": "a110723e",
   "metadata": {
    "execution": {
     "iopub.execute_input": "2023-02-27T09:03:22.089999Z",
     "iopub.status.busy": "2023-02-27T09:03:22.089567Z",
     "iopub.status.idle": "2023-02-27T09:03:22.095847Z",
     "shell.execute_reply": "2023-02-27T09:03:22.095005Z"
    },
    "papermill": {
     "duration": 0.041601,
     "end_time": "2023-02-27T09:03:22.098066",
     "exception": false,
     "start_time": "2023-02-27T09:03:22.056465",
     "status": "completed"
    },
    "tags": []
   },
   "outputs": [],
   "source": [
    "# Preparing column transformer\n",
    "# numeric_columns = ['age', 'height', 'weight', 'ap_hi', 'ap_lo', 'cholesterol', 'gluc']\n",
    "numeric_columns = ['age', 'ap_hi', 'ap_lo', 'cholesterol', 'gluc', 'bmi']\n",
    "skip_columns = ['female', 'smoke', 'alco', 'active']\n",
    "scoring = 'roc_auc'\n",
    "numeric_transformer = StandardScaler()\n",
    "\n",
    "preprocessor = ColumnTransformer(transformers=[\n",
    "    ('numeric_transformer', numeric_transformer, numeric_columns),\n",
    "    ('skip', 'passthrough', skip_columns)\n",
    "])"
   ]
  },
  {
   "cell_type": "code",
   "execution_count": null,
   "id": "5de0b056",
   "metadata": {
    "execution": {
     "iopub.execute_input": "2023-02-27T09:03:22.164965Z",
     "iopub.status.busy": "2023-02-27T09:03:22.164189Z",
     "iopub.status.idle": "2023-02-27T09:03:22.169440Z",
     "shell.execute_reply": "2023-02-27T09:03:22.168544Z"
    },
    "papermill": {
     "duration": 0.042004,
     "end_time": "2023-02-27T09:03:22.171846",
     "exception": false,
     "start_time": "2023-02-27T09:03:22.129842",
     "status": "completed"
    },
    "tags": []
   },
   "outputs": [],
   "source": [
    "def show_best_metrics(model):\n",
    "    final_metrics = pd.DataFrame(model.cv_results_)['mean_test_score'].iloc[model.best_index_]\n",
    "\n",
    "    print(model.best_estimator_)\n",
    "    print(\"\\nROC-AUC: {:.3f}\".format(final_metrics))"
   ]
  },
  {
   "cell_type": "markdown",
   "id": "6548b4e9",
   "metadata": {
    "papermill": {
     "duration": 0.033567,
     "end_time": "2023-02-27T09:03:22.237984",
     "exception": false,
     "start_time": "2023-02-27T09:03:22.204417",
     "status": "completed"
    },
    "tags": []
   },
   "source": [
    "**DecisionTreeClassifier**"
   ]
  },
  {
   "cell_type": "code",
   "execution_count": null,
   "id": "03005a1c",
   "metadata": {
    "execution": {
     "iopub.execute_input": "2023-02-27T09:03:22.304233Z",
     "iopub.status.busy": "2023-02-27T09:03:22.303814Z",
     "iopub.status.idle": "2023-02-27T09:03:22.308814Z",
     "shell.execute_reply": "2023-02-27T09:03:22.307745Z"
    },
    "papermill": {
     "duration": 0.040085,
     "end_time": "2023-02-27T09:03:22.311016",
     "exception": false,
     "start_time": "2023-02-27T09:03:22.270931",
     "status": "completed"
    },
    "tags": []
   },
   "outputs": [],
   "source": [
    "# tree = DecisionTreeClassifier(random_state=42)\n",
    "# tree_pipe = Pipeline(steps=[('preprocessor', preprocessor), ('classifier', tree)])\n",
    "# tree_params = {\n",
    "#     'classifier__max_depth': range(2, 21, 2),\n",
    "#     'classifier__criterion': ['gini', 'entropy']\n",
    "# }\n",
    "\n",
    "# gs_tree = GridSearchCV(tree_pipe, tree_params, cv=5, scoring=scoring)\n",
    "# gs_tree.fit(X_train, y_train)\n",
    "\n",
    "# show_best_metrics(gs_tree)"
   ]
  },
  {
   "cell_type": "markdown",
   "id": "6c73bc82",
   "metadata": {
    "papermill": {
     "duration": 0.031716,
     "end_time": "2023-02-27T09:03:22.374094",
     "exception": false,
     "start_time": "2023-02-27T09:03:22.342378",
     "status": "completed"
    },
    "tags": []
   },
   "source": [
    "DecisionTreeClassifier(criterion='entropy', max_depth=6, random_state=12345)\n",
    "\n",
    "ROC-AUC: 0.795"
   ]
  },
  {
   "cell_type": "markdown",
   "id": "f6fa3d85",
   "metadata": {
    "execution": {
     "iopub.execute_input": "2023-02-22T14:01:45.214184Z",
     "iopub.status.busy": "2023-02-22T14:01:45.213796Z",
     "iopub.status.idle": "2023-02-22T14:01:45.220280Z",
     "shell.execute_reply": "2023-02-22T14:01:45.219098Z",
     "shell.execute_reply.started": "2023-02-22T14:01:45.214153Z"
    },
    "papermill": {
     "duration": 0.031842,
     "end_time": "2023-02-27T09:03:22.437504",
     "exception": false,
     "start_time": "2023-02-27T09:03:22.405662",
     "status": "completed"
    },
    "tags": []
   },
   "source": [
    "**RandomForestClassifier**"
   ]
  },
  {
   "cell_type": "code",
   "execution_count": null,
   "id": "e755be3e",
   "metadata": {
    "execution": {
     "iopub.execute_input": "2023-02-27T09:03:22.503697Z",
     "iopub.status.busy": "2023-02-27T09:03:22.502843Z",
     "iopub.status.idle": "2023-02-27T09:03:22.508037Z",
     "shell.execute_reply": "2023-02-27T09:03:22.506903Z"
    },
    "papermill": {
     "duration": 0.041095,
     "end_time": "2023-02-27T09:03:22.510559",
     "exception": false,
     "start_time": "2023-02-27T09:03:22.469464",
     "status": "completed"
    },
    "tags": []
   },
   "outputs": [],
   "source": [
    "# forest = RandomForestClassifier(random_state=42)\n",
    "# forest_pipe = Pipeline(steps=[('preprocessor', preprocessor), ('classifier', forest)])\n",
    "# forest_params = {\n",
    "#     'classifier__max_depth': range(2, 21, 2),\n",
    "#     'classifier__n_estimators': range(50, 351, 50),\n",
    "#     'classifier__criterion': ['gini', 'entropy']\n",
    "# }\n",
    "\n",
    "# gs_forest = GridSearchCV(forest_pipe, forest_params, cv=5, scoring=scoring)\n",
    "# gs_forest.fit(X_train, y_train)\n",
    "\n",
    "# show_best_metrics(gs_forest)"
   ]
  },
  {
   "cell_type": "markdown",
   "id": "aa702419",
   "metadata": {
    "papermill": {
     "duration": 0.032918,
     "end_time": "2023-02-27T09:03:22.575312",
     "exception": false,
     "start_time": "2023-02-27T09:03:22.542394",
     "status": "completed"
    },
    "tags": []
   },
   "source": [
    "RandomForestClassifier(criterion='entropy', max_depth=10, n_estimators=350, random_state=42)\n",
    "\n",
    "ROC-AUC: 0.801"
   ]
  },
  {
   "cell_type": "markdown",
   "id": "96e43b8b",
   "metadata": {
    "papermill": {
     "duration": 0.031579,
     "end_time": "2023-02-27T09:03:22.638678",
     "exception": false,
     "start_time": "2023-02-27T09:03:22.607099",
     "status": "completed"
    },
    "tags": []
   },
   "source": [
    "**LogisticRegression**"
   ]
  },
  {
   "cell_type": "code",
   "execution_count": null,
   "id": "daebcad1",
   "metadata": {
    "execution": {
     "iopub.execute_input": "2023-02-27T09:03:22.704331Z",
     "iopub.status.busy": "2023-02-27T09:03:22.703926Z",
     "iopub.status.idle": "2023-02-27T09:03:22.709112Z",
     "shell.execute_reply": "2023-02-27T09:03:22.707957Z"
    },
    "papermill": {
     "duration": 0.040721,
     "end_time": "2023-02-27T09:03:22.711200",
     "exception": false,
     "start_time": "2023-02-27T09:03:22.670479",
     "status": "completed"
    },
    "tags": []
   },
   "outputs": [],
   "source": [
    "# logreg = LogisticRegression(random_state=42, solver='liblinear')\n",
    "# logreg_pipe = Pipeline(steps=[('preprocessor', preprocessor), ('classifier', logreg)])\n",
    "# logreg_params = {\n",
    "#     'classifier__penalty': ('l1', 'l2'),\n",
    "#     'classifier__C': [0.001, 0.01, 0.1, 1, 10, 100],\n",
    "#     'classifier__max_iter': range(100, 501, 100)\n",
    "# }\n",
    "\n",
    "# gs_logreg = GridSearchCV(logreg_pipe, logreg_params, cv=5, scoring=scoring)\n",
    "# gs_logreg.fit(X_train, y_train)\n",
    "\n",
    "# show_best_metrics(gs_logreg)"
   ]
  },
  {
   "cell_type": "markdown",
   "id": "122066c4",
   "metadata": {
    "papermill": {
     "duration": 0.032062,
     "end_time": "2023-02-27T09:03:22.774721",
     "exception": false,
     "start_time": "2023-02-27T09:03:22.742659",
     "status": "completed"
    },
    "tags": []
   },
   "source": [
    "LogisticRegression(C=0.1, random_state=42)\n",
    "\n",
    "ROC-AUC: 0.793"
   ]
  },
  {
   "cell_type": "code",
   "execution_count": null,
   "id": "4581d5f5",
   "metadata": {
    "execution": {
     "iopub.execute_input": "2023-02-27T09:03:22.840334Z",
     "iopub.status.busy": "2023-02-27T09:03:22.839917Z",
     "iopub.status.idle": "2023-02-27T09:03:22.844550Z",
     "shell.execute_reply": "2023-02-27T09:03:22.843611Z"
    },
    "papermill": {
     "duration": 0.040678,
     "end_time": "2023-02-27T09:03:22.846790",
     "exception": false,
     "start_time": "2023-02-27T09:03:22.806112",
     "status": "completed"
    },
    "tags": []
   },
   "outputs": [],
   "source": [
    "# svc = SVC(random_state=42)\n",
    "# svc_pipe = Pipeline(steps=[('preprocessor', preprocessor), ('classifier', svc)])\n",
    "# svc_params = {\n",
    "#     'classifier__C': [0.1, 2, 5, 10],\n",
    "#     'classifier__kernel': ['linear', 'poly', 'rbf', 'sigmoid'],\n",
    "#     'classifier__gamma': ['scale', 'auto',]\n",
    "# }\n",
    "\n",
    "# gs_svc = GridSearchCV(svc_pipe, svc_params, cv=5, scoring=scoring)\n",
    "# gs_svc.fit(X_train, y_train)\n",
    "\n",
    "# show_best_metrics(gs_svc)"
   ]
  },
  {
   "cell_type": "markdown",
   "id": "b6db5a56",
   "metadata": {
    "papermill": {
     "duration": 0.031307,
     "end_time": "2023-02-27T09:03:22.909456",
     "exception": false,
     "start_time": "2023-02-27T09:03:22.878149",
     "status": "completed"
    },
    "tags": []
   },
   "source": [
    "SVC(C=0.1, gamma='auto', random_state=12345)\n",
    "\n",
    "ROC-AUC: 0.792"
   ]
  },
  {
   "cell_type": "code",
   "execution_count": null,
   "id": "3000ed63",
   "metadata": {
    "execution": {
     "iopub.execute_input": "2023-02-27T09:03:22.975490Z",
     "iopub.status.busy": "2023-02-27T09:03:22.975010Z",
     "iopub.status.idle": "2023-02-27T09:03:22.979847Z",
     "shell.execute_reply": "2023-02-27T09:03:22.978735Z"
    },
    "papermill": {
     "duration": 0.040163,
     "end_time": "2023-02-27T09:03:22.982025",
     "exception": false,
     "start_time": "2023-02-27T09:03:22.941862",
     "status": "completed"
    },
    "tags": []
   },
   "outputs": [],
   "source": [
    "# knn = KNeighborsClassifier()\n",
    "# knn_pipe = Pipeline(steps=[('preprocessor', preprocessor), ('classifier', knn)])\n",
    "# knn_params = {\n",
    "#     'classifier__n_neighbors': range(1, 11),\n",
    "#     'classifier__weights': ['uniform', 'distance'],\n",
    "#     'classifier__leaf_size': range(30, 121, 30),\n",
    "#     'classifier__p': [1, 2, 3]\n",
    "# }\n",
    "\n",
    "# gs_knn = GridSearchCV(knn_pipe, knn_params, cv=5, scoring=scoring, refit='accuracy')\n",
    "# gs_knn.fit(X_train, y_train)\n",
    "\n",
    "# show_best_metrics(gs_knn)"
   ]
  },
  {
   "cell_type": "markdown",
   "id": "e50f93b5",
   "metadata": {
    "papermill": {
     "duration": 0.03102,
     "end_time": "2023-02-27T09:03:23.044431",
     "exception": false,
     "start_time": "2023-02-27T09:03:23.013411",
     "status": "completed"
    },
    "tags": []
   },
   "source": [
    "KNeighborsClassifier(leaf_size=90, n_neighbors=10, p=3)\n",
    "\n",
    "ROC-AUC: 0.772"
   ]
  },
  {
   "cell_type": "markdown",
   "id": "119eea23",
   "metadata": {
    "papermill": {
     "duration": 0.031445,
     "end_time": "2023-02-27T09:03:23.107230",
     "exception": false,
     "start_time": "2023-02-27T09:03:23.075785",
     "status": "completed"
    },
    "tags": []
   },
   "source": [
    "**Preminary Conclusion**\n",
    "\n",
    "The best value of ROC-AUC shows the RandomForestClassifier model with the following hyperparameters:\n",
    "\n",
    "- criterion: 'entropy';\n",
    "- max_depth: 10;\n",
    "- n_estimators: 350.\n",
    "\n",
    "The value of ROC-AUC with this model reaches 0.801. Let's test the model on valid dataset."
   ]
  },
  {
   "cell_type": "code",
   "execution_count": null,
   "id": "9e71a3de",
   "metadata": {
    "execution": {
     "iopub.execute_input": "2023-02-27T09:03:23.172770Z",
     "iopub.status.busy": "2023-02-27T09:03:23.172041Z",
     "iopub.status.idle": "2023-02-27T09:03:42.964766Z",
     "shell.execute_reply": "2023-02-27T09:03:42.963060Z"
    },
    "papermill": {
     "duration": 19.82885,
     "end_time": "2023-02-27T09:03:42.967537",
     "exception": false,
     "start_time": "2023-02-27T09:03:23.138687",
     "status": "completed"
    },
    "tags": []
   },
   "outputs": [
    {
     "name": "stdout",
     "output_type": "stream",
     "text": [
      "RandomForestClassifier AUC-ROC: 0.739\n"
     ]
    }
   ],
   "source": [
    "best_forest = RandomForestClassifier(random_state=42, criterion='entropy', n_estimators=350, max_depth=10)\n",
    "best_forest_pipe = Pipeline(steps=[('preprocessor', preprocessor), ('classifier', best_forest)])\n",
    "best_forest_pipe.fit(X_train, y_train)\n",
    "y_pred = best_forest_pipe.predict(X_valid)\n",
    "\n",
    "auc_roc = roc_auc_score(y_valid, y_pred)\n",
    "print(\"RandomForestClassifier AUC-ROC: {:.3f}\".format(auc_roc))"
   ]
  },
  {
   "cell_type": "code",
   "execution_count": null,
   "id": "33d4f4c0",
   "metadata": {},
   "outputs": [],
   "source": [
    "# Let's create a separate model for the heart disease app\n",
    "\n",
    "from pickle import dump\n",
    "\n",
    "with open(\"./main.pcl\", \"wb\") as model_file:\n",
    "    dump(best_forest_pipe, model_file)"
   ]
  },
  {
   "cell_type": "markdown",
   "id": "cf1946b8",
   "metadata": {
    "papermill": {
     "duration": 0.031546,
     "end_time": "2023-02-27T09:03:43.031329",
     "exception": false,
     "start_time": "2023-02-27T09:03:42.999783",
     "status": "completed"
    },
    "tags": []
   },
   "source": [
    "**Final predictions:**"
   ]
  },
  {
   "cell_type": "code",
   "execution_count": null,
   "id": "01645197",
   "metadata": {
    "execution": {
     "iopub.execute_input": "2023-02-27T09:03:43.106707Z",
     "iopub.status.busy": "2023-02-27T09:03:43.105823Z",
     "iopub.status.idle": "2023-02-27T09:04:03.623809Z",
     "shell.execute_reply": "2023-02-27T09:04:03.622678Z"
    },
    "papermill": {
     "duration": 20.563424,
     "end_time": "2023-02-27T09:04:03.626627",
     "exception": false,
     "start_time": "2023-02-27T09:03:43.063203",
     "status": "completed"
    },
    "tags": []
   },
   "outputs": [],
   "source": [
    "X_test = df_test\n",
    "\n",
    "best_forest_pipe.fit(X_train, y_train)\n",
    "y_test_pred = best_forest_pipe.predict(X_test)\n",
    "\n",
    "y_final_pred = pd.DataFrame(\n",
    "    y_test_pred,\n",
    "    index=df_test_orig['id'],\n",
    "    columns=['cardio']\n",
    ")\n",
    "\n",
    "y_final_pred.to_csv('submission.csv')"
   ]
  },
  {
   "cell_type": "code",
   "execution_count": null,
   "id": "48d9c287",
   "metadata": {
    "execution": {
     "iopub.execute_input": "2023-02-27T09:04:03.692160Z",
     "iopub.status.busy": "2023-02-27T09:04:03.691740Z",
     "iopub.status.idle": "2023-02-27T09:04:03.703326Z",
     "shell.execute_reply": "2023-02-27T09:04:03.701902Z"
    },
    "papermill": {
     "duration": 0.047403,
     "end_time": "2023-02-27T09:04:03.705985",
     "exception": false,
     "start_time": "2023-02-27T09:04:03.658582",
     "status": "completed"
    },
    "tags": []
   },
   "outputs": [
    {
     "data": {
      "text/plain": [
       "cardio    13470\n",
       "dtype: int64"
      ]
     },
     "execution_count": 56,
     "metadata": {},
     "output_type": "execute_result"
    }
   ],
   "source": [
    "y_final_pred.sum()"
   ]
  },
  {
   "cell_type": "markdown",
   "id": "d8a56386",
   "metadata": {
    "execution": {
     "iopub.execute_input": "2023-02-27T06:53:18.431158Z",
     "iopub.status.busy": "2023-02-27T06:53:18.430745Z",
     "iopub.status.idle": "2023-02-27T06:53:18.436343Z",
     "shell.execute_reply": "2023-02-27T06:53:18.434994Z",
     "shell.execute_reply.started": "2023-02-27T06:53:18.431121Z"
    },
    "papermill": {
     "duration": 0.031483,
     "end_time": "2023-02-27T09:04:03.770007",
     "exception": false,
     "start_time": "2023-02-27T09:04:03.738524",
     "status": "completed"
    },
    "tags": []
   },
   "source": [
    "<a name='conclusion'></a>\n",
    "## 4. Conclusion"
   ]
  },
  {
   "cell_type": "markdown",
   "id": "00ce02ca",
   "metadata": {
    "papermill": {
     "duration": 0.03177,
     "end_time": "2023-02-27T09:04:03.836390",
     "exception": false,
     "start_time": "2023-02-27T09:04:03.804620",
     "status": "completed"
    },
    "tags": []
   },
   "source": [
    "In order to make a model that defines whether a person has a heart disease, first, it was necessary to make data preprocessing. Despite the fact that there aren't any missing values in the given datasets, some abnormal values took place and they had to be processed. \n",
    "\n",
    "The models were chosen based on the fact that we are dealing with classification tasks. The following models were considered: DecisionTreeClassifier, RandomForestClassifier, LogisticRegression, K-Nearest Neighbor & Support Vector Machine. The best model out of all of them based on the evaluation metric of the project - ROC-AUC - is **RandomForestClassifier** with the following hyperparameters:\n",
    "- criterion: 'entropy';\n",
    "- max_depth: 10;\n",
    "- n_estimators: 350.\n",
    "\n",
    "The ROC-AUC values on the train dataset was 0.801 while on the valid dataset - 0.739.\n",
    "\n",
    "The final submission file was made by predicting the values of each person in test.csv dataset using the best found model."
   ]
  }
 ],
 "metadata": {
  "kernelspec": {
   "display_name": "venv",
   "language": "python",
   "name": "python3"
  },
  "language_info": {
   "codemirror_mode": {
    "name": "ipython",
    "version": 3
   },
   "file_extension": ".py",
   "mimetype": "text/x-python",
   "name": "python",
   "nbconvert_exporter": "python",
   "pygments_lexer": "ipython3",
   "version": "3.9.1"
  },
  "papermill": {
   "default_parameters": {},
   "duration": 99.5852,
   "end_time": "2023-02-27T09:04:06.629819",
   "environment_variables": {},
   "exception": null,
   "input_path": "__notebook__.ipynb",
   "output_path": "__notebook__.ipynb",
   "parameters": {},
   "start_time": "2023-02-27T09:02:27.044619",
   "version": "2.3.4"
  },
  "vscode": {
   "interpreter": {
    "hash": "705c458bee544d2c22548d9e814d595e1295ce0f22e8ac8c7e10bd1c70d31cc6"
   }
  }
 },
 "nbformat": 4,
 "nbformat_minor": 5
}
